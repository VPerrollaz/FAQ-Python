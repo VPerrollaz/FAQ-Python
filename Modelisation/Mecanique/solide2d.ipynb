{
 "cells": [
  {
   "cell_type": "markdown",
   "metadata": {},
   "source": [
    "On va modéliser le mouvement d'un rectangle plein et homogène attaché à un point fixe par une tige sans masse"
   ]
  },
  {
   "cell_type": "markdown",
   "metadata": {},
   "source": [
    "# Modélisation"
   ]
  },
  {
   "cell_type": "markdown",
   "metadata": {},
   "source": [
    "## Cinématique d'un solide libre"
   ]
  },
  {
   "cell_type": "markdown",
   "metadata": {},
   "source": [
    "On cherche à décrire le mouvement d'un solide $\\Omega_0$."
   ]
  },
  {
   "cell_type": "markdown",
   "metadata": {},
   "source": [
    "Pour chacun des points $(x_0,y_0)\\in \\Omega_0$ on notera $(X(t,x_0,y_0),Y(t,x_0,y_0))$ sa position au temps $t$."
   ]
  },
  {
   "cell_type": "markdown",
   "metadata": {},
   "source": [
    "La solidité s'exprime alors par la contrainte cinématique suivante \n",
    "$$\\forall t\\geq 0,\\qquad \\forall (x_0,y_0)\\in\\Omega_0,\\qquad \\forall (x_1,y_1)\\in\\Omega_0,$$\n",
    "$$(X(t,x_1,y_1)-X(t,x_0,y_0))^2+(Y(t,x_1,y_1)-Y(t,x_0,y_0))^2=(x_1-x_0)^2+(y_1-y_0)^2.$$\n",
    "Les points du solides restent à distance constante les uns des autres."
   ]
  },
  {
   "cell_type": "markdown",
   "metadata": {},
   "source": [
    "Cela revient à  l'existence pour tout temps $t\\geq 0$ d'une isométrie $\\psi_t$ du plan telle que \n",
    "$$\\forall t\\geq 0,\\qquad \\forall (x_0,y_0)\\in\\Omega_0,\\qquad (X(t,x_0,y_0),Y(t,x_0,y_0))=\\psi_t(x_0,y_0).$$"
   ]
  },
  {
   "cell_type": "markdown",
   "metadata": {},
   "source": [
    "Si le solide contient au moins trois points non alignés, on peut montrer que l'isométrie est uniquement définie.\n",
    "\n",
    "Si on utilise le fait que la position du solide est une fonction continue du temps la structure du groupe des isométrie **directes** permet de conclure à l'unicité de la paramétrisation $t\\mapsto \\psi_t$ dès que le solide a au moins deux points distincts. \n",
    "\n",
    "(Voir le théorème des trois réflexions par exemple)"
   ]
  },
  {
   "cell_type": "markdown",
   "metadata": {},
   "source": [
    "Plus précisément il existe des fonctions réelles du temps, $\\theta$, $a$ et $b$ telles que \n",
    "$$\\forall t\\geq 0,\\qquad \\psi_t\n",
    "\\begin{pmatrix}\n",
    "x\\\\ y\n",
    "\\end{pmatrix}\n",
    ":=\n",
    "\\begin{pmatrix}\n",
    "\\cos(\\theta(t)) & -\\sin(\\theta(t))\\\\\n",
    "\\sin(\\theta(t)) & \\cos(\\theta(t))\n",
    "\\end{pmatrix}\n",
    "\\begin{pmatrix}\n",
    "x\\\\ y\n",
    "\\end{pmatrix}+\n",
    "\\begin{pmatrix}\n",
    "a(t)\\\\ b(t)\n",
    "\\end{pmatrix}\n",
    "$$\n"
   ]
  },
  {
   "cell_type": "markdown",
   "metadata": {},
   "source": [
    "## Lagrangien"
   ]
  },
  {
   "cell_type": "markdown",
   "metadata": {},
   "source": [
    "### Energie cinétique"
   ]
  },
  {
   "cell_type": "markdown",
   "metadata": {},
   "source": [
    "Pour écrire le lagrangien on va commencer par l'énergie cinétique. Elle vaut\n",
    "$$T=\\int_{\\Omega_0}{ \\left(\\dot{X}^2(t,x_0,y_0)+\\dot{Y}^2(t,x_0,y_0)\\right)\\frac{\\rho}{2}dx_0dy_0}$$"
   ]
  },
  {
   "cell_type": "markdown",
   "metadata": {},
   "source": [
    "Mais d'après ce qui précède cette quantité devient\n",
    "$$T=\\frac{\\rho\\dot{\\theta}^2}{2}\\int_{\\Omega_0}{(x_0^2+y_0^2)dx_0dy_0} +\\frac{\\rho (\\dot{a}^2+\\dot{b}^2)}{2}\\int_{\\Omega_0}{dx_0dy_0}+\\dot{\\theta}\\rho\\left(\\left(\\dot{b}\\cos(\\theta)-\\dot{a}\\sin(\\theta)\\right)\\int_{\\Omega_0}{x_0dx_0dy_0}+\\left(-\\dot{b}\\sin(\\theta)-\\dot{a}\\cos(\\theta)\\right)\\int_{\\Omega_0}{y_0dx_0dy_0}\\right)$$"
   ]
  },
  {
   "cell_type": "markdown",
   "metadata": {},
   "source": [
    "On s'intéresse dans notre cas particulier au solide suivant"
   ]
  },
  {
   "cell_type": "markdown",
   "metadata": {},
   "source": [
    "on considère le rectangle de largeur $3L$ et de hauteur $2l$\n",
    "$$\\Omega_0:=[-L, 2L]\\times [-l,l].$$"
   ]
  },
  {
   "cell_type": "markdown",
   "metadata": {},
   "source": [
    "La surface étant $6lL$ si la masse du rectangle est $M$ on aura une densité homogène\n",
    "$$\\rho := \\frac{M}{6lL}.$$\n"
   ]
  },
  {
   "cell_type": "markdown",
   "metadata": {},
   "source": [
    "*Si l'origine des coordonnées était au barycentre du solide les 3e et 4e auraient disparus mais pour l'énergie potentielle dans la suite ce choix sera plus intéressant*"
   ]
  },
  {
   "cell_type": "markdown",
   "metadata": {},
   "source": [
    "L'énergie cinétique est alors\n",
    "\n",
    "\\begin{align}\n",
    "T&=\\dot{\\theta}^2\\frac{M}{12lL}\\left(6lL^3+2l^3L\\right)+\\frac{M(\\dot{a}^2+\\dot{b}^2)}{2}+\\dot{\\theta}\\frac{M}{6lL}\\left(\\dot{b}\\cos(\\theta)-\\dot{a}\\sin(\\theta)\\right)3lL^2\\\\\n",
    "&=\\frac{M\\dot{\\theta}^2}{2}\\left(L^2+\\frac{l^2}{3}\\right)+\\frac{M(\\dot{a}^2+\\dot{b}^2)}{2}+\\frac{M\\dot{\\theta}}{2}L\\left(\\dot{b}\\cos(\\theta)-\\dot{a}\\sin(\\theta)\\right)\n",
    "\\end{align}"
   ]
  },
  {
   "cell_type": "markdown",
   "metadata": {},
   "source": [
    "### Energie potentielle de pesanteur"
   ]
  },
  {
   "cell_type": "markdown",
   "metadata": {},
   "source": [
    "Elle est donnée par\n",
    "$$V=\\int_{\\Omega_0}{ Y(t,x_0,y_0)g\\rho dx_0dy_0}$$"
   ]
  },
  {
   "cell_type": "markdown",
   "metadata": {},
   "source": [
    "Et donc\n",
    "\\begin{align}\n",
    "V&=\\int_{\\Omega_0}{ (b+\\sin(\\theta)x_0+\\cos(\\theta)y_0)g\\rho dx_0dy_0}\\\\\n",
    "&=Mgb+\\frac{MgL\\sin(\\theta)}{2}\n",
    "\\end{align}"
   ]
  },
  {
   "cell_type": "markdown",
   "metadata": {},
   "source": [
    "### Lagrangien"
   ]
  },
  {
   "cell_type": "markdown",
   "metadata": {},
   "source": [
    "Le lagrangien d'un solide libre est donc\n",
    "$$L=\\frac{M\\dot{\\theta}^2}{2}\\left(L^2+\\frac{l^2}{3}\\right)+\\frac{M(\\dot{a}^2+\\dot{b}^2)}{2}+\\frac{M\\dot{\\theta}}{2}L\\left(\\dot{b}\\cos(\\theta)-\\dot{a}\\sin(\\theta)\\right)\n",
    "-Mgb-\\frac{MgL\\sin(\\theta)}{2}$$\n"
   ]
  },
  {
   "cell_type": "markdown",
   "metadata": {},
   "source": [
    "## Contrainte cinématique additionnelle"
   ]
  },
  {
   "cell_type": "markdown",
   "metadata": {},
   "source": [
    "Comme on suppose que le point correspondant à $x_0=0,\\ y_0=0$ est relié à l'origine du repère par une tige de longueur $r$ on en déduit que l'on une fonction $\\alpha$ du temps telle que \n",
    "$$\n",
    "\\begin{cases}\n",
    "a(t)=r\\cos(\\alpha(t))\\\\\n",
    "b(t)=r\\sin(\\alpha(t))\n",
    "\\end{cases}\n",
    "$$"
   ]
  },
  {
   "cell_type": "markdown",
   "metadata": {},
   "source": [
    "On obtient alors le lagrangien\n",
    "$$L=\\frac{M\\dot{\\theta}^2}{2}\\left(L^2+\\frac{l^2}{3}\\right)+\\frac{Mr^2\\dot{\\alpha}^2}{2}+\\frac{MLr\\dot{\\theta}\\dot{\\alpha}\\cos(\\alpha-\\theta)}{2}\n",
    "-Mgr\\sin(\\alpha)-\\frac{MgL\\sin(\\theta)}{2}$$\n"
   ]
  },
  {
   "cell_type": "markdown",
   "metadata": {},
   "source": [
    "## Passage en Hamiltonien"
   ]
  },
  {
   "cell_type": "markdown",
   "metadata": {},
   "source": [
    "On introduit les nouvelles coordonnées\n",
    "$$\n",
    "\\begin{cases}\n",
    "\\phi=\\frac{\\partial L}{\\partial \\dot{\\theta}}=M(L^2+\\frac{l^2}{3})\\dot{\\theta}+\\frac{MLr\\cos(\\alpha-\\theta)}{2}\\dot{\\alpha}\\\\\n",
    "\\beta=\\frac{\\partial L}{\\partial \\dot{\\alpha}}= Mr^2\\dot{\\alpha}+\\frac{MLr\\cos(\\alpha-\\theta)}{2}\\dot{\\theta}\n",
    "\\end{cases}\n",
    "$$"
   ]
  },
  {
   "cell_type": "markdown",
   "metadata": {},
   "source": [
    "Puis le hamiltonien dans les anciennes coordonnées est donné par\n",
    "$$H=\\dot{\\theta}\\phi+\\dot{\\alpha}\\beta-L=\\frac{M\\dot{\\theta}^2}{2}\\left(L^2+\\frac{l^2}{3}\\right)+\\frac{Mr^2\\dot{\\alpha}^2}{2}+\\frac{MLr\\dot{\\theta}\\dot{\\alpha}\\cos(\\alpha-\\theta)}{2}\n",
    "+Mgr\\sin(\\alpha)+\\frac{MgL\\sin(\\theta)}{2}$$"
   ]
  },
  {
   "cell_type": "markdown",
   "metadata": {},
   "source": [
    "Il faut l'exprimer dans les nouvelles coordonnées et donc inverser la matrice\n",
    "$$\n",
    "M\\begin{pmatrix}\n",
    "L^2+\\frac{l^2}{3}& \\frac{Lr\\cos(\\alpha-\\theta)}{2}\\\\\n",
    "\\frac{Lr\\cos(\\alpha-\\theta)}{2} & r^2\n",
    "\\end{pmatrix}\n",
    "$$"
   ]
  },
  {
   "cell_type": "markdown",
   "metadata": {},
   "source": [
    "Or celle-ci vaut\n",
    "$$\n",
    "\\frac{1}{M^2\\left(r^2L^2\\left(1-\\frac{\\cos^2(\\alpha-\\theta)}{4}\\right)+\\frac{r^2l^2}{3}\\right)}\n",
    "\\begin{pmatrix}\n",
    "r^2 & -\\frac{Lr\\cos(\\alpha-\\theta)}{2}\\\\\n",
    "-\\frac{Lr\\cos(\\alpha-\\theta)}{2}& L^2+\\frac{l^2}{3}\n",
    "\\end{pmatrix}\n",
    "$$"
   ]
  },
  {
   "cell_type": "code",
   "execution_count": null,
   "metadata": {
    "collapsed": true
   },
   "outputs": [],
   "source": []
  }
 ],
 "metadata": {
  "kernelspec": {
   "display_name": "Python [conda env:py3]",
   "language": "python",
   "name": "conda-env-py3-py"
  },
  "language_info": {
   "codemirror_mode": {
    "name": "ipython",
    "version": 3
   },
   "file_extension": ".py",
   "mimetype": "text/x-python",
   "name": "python",
   "nbconvert_exporter": "python",
   "pygments_lexer": "ipython3",
   "version": "3.6.1"
  }
 },
 "nbformat": 4,
 "nbformat_minor": 2
}
