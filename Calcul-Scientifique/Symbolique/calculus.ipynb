{
 "cells": [
  {
   "cell_type": "code",
   "execution_count": 1,
   "metadata": {},
   "outputs": [],
   "source": [
    "from sympy import *\n",
    "init_printing()\n",
    "x = symbols(\"x\")"
   ]
  },
  {
   "cell_type": "markdown",
   "metadata": {},
   "source": [
    "Comment dériver une expression\n",
    "-------------------------"
   ]
  },
  {
   "cell_type": "code",
   "execution_count": 2,
   "metadata": {
    "collapsed": false,
    "jupyter": {
     "outputs_hidden": false
    }
   },
   "outputs": [
    {
     "data": {
      "image/png": "[encoded data removed]",
      "text/latex": [
       "$\\displaystyle e^{x^{2} + x + 1} \\log{\\left(x^{4} + 1 \\right)}$"
      ],
      "text/plain": [
       "  2                    \n",
       " x  + x + 1    ⎛ 4    ⎞\n",
       "ℯ          ⋅log⎝x  + 1⎠"
      ]
     },
     "metadata": {},
     "output_type": "display_data"
    }
   ],
   "source": [
    "f=exp(x**2+x+1)*(log(1+x**4))\n",
    "display(f)"
   ]
  },
  {
   "cell_type": "code",
   "execution_count": 3,
   "metadata": {
    "collapsed": false,
    "jupyter": {
     "outputs_hidden": false
    }
   },
   "outputs": [
    {
     "data": {
      "image/png": "[encoded data removed]",
      "text/latex": [
       "$\\displaystyle \\frac{4 x^{3} e^{x^{2} + x + 1}}{x^{4} + 1} + \\left(2 x + 1\\right) e^{x^{2} + x + 1} \\log{\\left(x^{4} + 1 \\right)}$"
      ],
      "text/plain": [
       "       2                                            \n",
       "   3  x  + x + 1               2                    \n",
       "4⋅x ⋅ℯ                        x  + x + 1    ⎛ 4    ⎞\n",
       "──────────────── + (2⋅x + 1)⋅ℯ          ⋅log⎝x  + 1⎠\n",
       "      4                                             \n",
       "     x  + 1                                         "
      ]
     },
     "execution_count": 3,
     "metadata": {},
     "output_type": "execute_result"
    }
   ],
   "source": [
    "f.diff(x)"
   ]
  },
  {
   "cell_type": "code",
   "execution_count": 4,
   "metadata": {
    "collapsed": false,
    "jupyter": {
     "outputs_hidden": false
    }
   },
   "outputs": [
    {
     "data": {
      "image/png": "[encoded data removed]",
      "text/latex": [
       "$\\displaystyle \\frac{4 x^{3} e^{x^{2} + x + 1}}{x^{4} + 1} + \\left(2 x + 1\\right) e^{x^{2} + x + 1} \\log{\\left(x^{4} + 1 \\right)}$"
      ],
      "text/plain": [
       "       2                                            \n",
       "   3  x  + x + 1               2                    \n",
       "4⋅x ⋅ℯ                        x  + x + 1    ⎛ 4    ⎞\n",
       "──────────────── + (2⋅x + 1)⋅ℯ          ⋅log⎝x  + 1⎠\n",
       "      4                                             \n",
       "     x  + 1                                         "
      ]
     },
     "execution_count": 4,
     "metadata": {},
     "output_type": "execute_result"
    }
   ],
   "source": [
    "diff(f,x)"
   ]
  },
  {
   "cell_type": "markdown",
   "metadata": {},
   "source": [
    "Comment trouver une primitive?\n",
    "-----------------------------------"
   ]
  },
  {
   "cell_type": "code",
   "execution_count": 5,
   "metadata": {
    "collapsed": false,
    "jupyter": {
     "outputs_hidden": false
    }
   },
   "outputs": [
    {
     "data": {
      "image/png": "[encoded data removed]",
      "text/latex": [
       "$\\displaystyle \\sin{\\left(x + 1 \\right)} \\cos^{2}{\\left(x \\right)}$"
      ],
      "text/plain": [
       "              2   \n",
       "sin(x + 1)⋅cos (x)"
      ]
     },
     "execution_count": 5,
     "metadata": {},
     "output_type": "execute_result"
    }
   ],
   "source": [
    "g=sin(x+1)*cos(x)**2\n",
    "g"
   ]
  },
  {
   "cell_type": "code",
   "execution_count": 6,
   "metadata": {
    "collapsed": false,
    "jupyter": {
     "outputs_hidden": false
    }
   },
   "outputs": [
    {
     "data": {
      "image/png": "[encoded data removed]",
      "text/latex": [
       "$\\displaystyle - \\frac{2 \\sin^{2}{\\left(x \\right)} \\cos{\\left(x + 1 \\right)}}{3} + \\frac{2 \\sin{\\left(x \\right)} \\sin{\\left(x + 1 \\right)} \\cos{\\left(x \\right)}}{3} - \\frac{\\cos^{2}{\\left(x \\right)} \\cos{\\left(x + 1 \\right)}}{3}$"
      ],
      "text/plain": [
       "       2                                                 2              \n",
       "  2⋅sin (x)⋅cos(x + 1)   2⋅sin(x)⋅sin(x + 1)⋅cos(x)   cos (x)⋅cos(x + 1)\n",
       "- ──────────────────── + ────────────────────────── - ──────────────────\n",
       "           3                         3                        3         "
      ]
     },
     "execution_count": 6,
     "metadata": {},
     "output_type": "execute_result"
    }
   ],
   "source": [
    "integrate(g,x)"
   ]
  },
  {
   "cell_type": "markdown",
   "metadata": {},
   "source": [
    "Comment calculer une intégrale?\n",
    "------------------------------------"
   ]
  },
  {
   "cell_type": "code",
   "execution_count": 7,
   "metadata": {
    "collapsed": false,
    "jupyter": {
     "outputs_hidden": false
    }
   },
   "outputs": [
    {
     "data": {
      "image/png": "[encoded data removed]",
      "text/latex": [
       "$\\displaystyle \\frac{2 \\cos{\\left(1 \\right)}}{3}$"
      ],
      "text/plain": [
       "2⋅cos(1)\n",
       "────────\n",
       "   3    "
      ]
     },
     "execution_count": 7,
     "metadata": {},
     "output_type": "execute_result"
    }
   ],
   "source": [
    "integrate(g,(x,0,pi))"
   ]
  },
  {
   "cell_type": "code",
   "execution_count": 8,
   "metadata": {
    "collapsed": false,
    "jupyter": {
     "outputs_hidden": false
    }
   },
   "outputs": [
    {
     "data": {
      "image/png": "[encoded data removed]",
      "text/latex": [
       "$\\displaystyle \\sqrt{\\pi}$"
      ],
      "text/plain": [
       "√π"
      ]
     },
     "execution_count": 8,
     "metadata": {},
     "output_type": "execute_result"
    }
   ],
   "source": [
    "integrate(exp(-x**2),(x,-oo,+oo))"
   ]
  },
  {
   "cell_type": "markdown",
   "metadata": {},
   "source": [
    "Comment calculer une limite?\n",
    "----------------------------------"
   ]
  },
  {
   "cell_type": "code",
   "execution_count": 9,
   "metadata": {
    "collapsed": false,
    "jupyter": {
     "outputs_hidden": false
    }
   },
   "outputs": [
    {
     "data": {
      "image/png": "[encoded data removed]",
      "text/latex": [
       "$\\displaystyle \\left(1 + \\frac{1}{x}\\right)^{x}$"
      ],
      "text/plain": [
       "       x\n",
       "⎛    1⎞ \n",
       "⎜1 + ─⎟ \n",
       "⎝    x⎠ "
      ]
     },
     "metadata": {},
     "output_type": "display_data"
    }
   ],
   "source": [
    "f = ( 1 + 1 / x) ** x\n",
    "display(f)"
   ]
  },
  {
   "cell_type": "code",
   "execution_count": 10,
   "metadata": {
    "collapsed": false,
    "jupyter": {
     "outputs_hidden": false
    }
   },
   "outputs": [
    {
     "data": {
      "image/png": "[encoded data removed]",
      "text/latex": [
       "$\\displaystyle e$"
      ],
      "text/plain": [
       "ℯ"
      ]
     },
     "execution_count": 10,
     "metadata": {},
     "output_type": "execute_result"
    }
   ],
   "source": [
    "f.limit(x,oo)"
   ]
  },
  {
   "cell_type": "markdown",
   "metadata": {},
   "source": [
    "Comment manipuler des $O$?\n",
    "----------------------"
   ]
  },
  {
   "cell_type": "code",
   "execution_count": 11,
   "metadata": {
    "collapsed": false,
    "jupyter": {
     "outputs_hidden": false
    }
   },
   "outputs": [
    {
     "data": {
      "image/png": "[encoded data removed]",
      "text/latex": [
       "$\\displaystyle O\\left(x\\right)$"
      ],
      "text/plain": [
       "O(x)"
      ]
     },
     "execution_count": 11,
     "metadata": {},
     "output_type": "execute_result"
    }
   ],
   "source": [
    "O( x + x ** 2)"
   ]
  },
  {
   "cell_type": "markdown",
   "metadata": {},
   "source": [
    "Comment obtenir un développement en série entière?\n",
    "-----------------------"
   ]
  },
  {
   "cell_type": "code",
   "execution_count": 12,
   "metadata": {
    "collapsed": false,
    "jupyter": {
     "outputs_hidden": false
    }
   },
   "outputs": [
    {
     "data": {
      "image/png": "[encoded data removed]",
      "text/latex": [
       "$\\displaystyle \\frac{\\log{\\left(x + 1 \\right)}}{1 - x}$"
      ],
      "text/plain": [
       "log(x + 1)\n",
       "──────────\n",
       "  1 - x   "
      ]
     },
     "metadata": {},
     "output_type": "display_data"
    }
   ],
   "source": [
    "ex = log(1 + x) / ( 1 - x)\n",
    "display(ex)"
   ]
  },
  {
   "cell_type": "code",
   "execution_count": 13,
   "metadata": {
    "collapsed": false,
    "jupyter": {
     "outputs_hidden": false
    }
   },
   "outputs": [
    {
     "data": {
      "image/png": "[encoded data removed]",
      "text/latex": [
       "$\\displaystyle x + \\frac{x^{2}}{2} + \\frac{5 x^{3}}{6} + \\frac{7 x^{4}}{12} + \\frac{47 x^{5}}{60} + O\\left(x^{6}\\right)$"
      ],
      "text/plain": [
       "     2      3      4       5        \n",
       "    x    5⋅x    7⋅x    47⋅x     ⎛ 6⎞\n",
       "x + ── + ──── + ──── + ───── + O⎝x ⎠\n",
       "    2     6      12      60         "
      ]
     },
     "execution_count": 13,
     "metadata": {},
     "output_type": "execute_result"
    }
   ],
   "source": [
    "ex.series()"
   ]
  },
  {
   "cell_type": "code",
   "execution_count": 14,
   "metadata": {
    "collapsed": false,
    "jupyter": {
     "outputs_hidden": false
    }
   },
   "outputs": [
    {
     "data": {
      "image/png": "[encoded data removed]",
      "text/latex": [
       "$\\displaystyle x + \\frac{x^{2}}{2} + O\\left(x^{3}\\right)$"
      ],
      "text/plain": [
       "     2        \n",
       "    x     ⎛ 3⎞\n",
       "x + ── + O⎝x ⎠\n",
       "    2         "
      ]
     },
     "execution_count": 14,
     "metadata": {},
     "output_type": "execute_result"
    }
   ],
   "source": [
    "ex.series(n=3)"
   ]
  },
  {
   "cell_type": "code",
   "execution_count": 15,
   "metadata": {
    "collapsed": false,
    "jupyter": {
     "outputs_hidden": false
    }
   },
   "outputs": [
    {
     "data": {
      "image/png": "[encoded data removed]",
      "text/latex": [
       "$\\displaystyle - \\log{\\left(3 \\right)} + \\left(- \\frac{1}{3} + \\log{\\left(3 \\right)}\\right) \\left(x - 2\\right) + \\left(\\frac{7}{18} - \\log{\\left(3 \\right)}\\right) \\left(x - 2\\right)^{2} + \\left(- \\frac{65}{162} + \\log{\\left(3 \\right)}\\right) \\left(x - 2\\right)^{3} + \\left(\\frac{131}{324} - \\log{\\left(3 \\right)}\\right) \\left(x - 2\\right)^{4} + O\\left(\\left(x - 2\\right)^{5}; x\\rightarrow 2\\right)$"
      ],
      "text/plain": [
       "                                                           2   ⎛   65         \n",
       "-log(3) + (-1/3 + log(3))⋅(x - 2) + (7/18 - log(3))⋅(x - 2)  + ⎜- ─── + log(3)\n",
       "                                                               ⎝  162         \n",
       "\n",
       "⎞        3   ⎛131         ⎞        4    ⎛       5       ⎞\n",
       "⎟⋅(x - 2)  + ⎜─── - log(3)⎟⋅(x - 2)  + O⎝(x - 2) ; x → 2⎠\n",
       "⎠            ⎝324         ⎠                              "
      ]
     },
     "execution_count": 15,
     "metadata": {},
     "output_type": "execute_result"
    }
   ],
   "source": [
    "ex.series(x0=2,n=5)"
   ]
  },
  {
   "cell_type": "markdown",
   "metadata": {},
   "source": [
    "Comment résoudre une équation différentielle?\n",
    "-----------------------"
   ]
  },
  {
   "cell_type": "code",
   "execution_count": 16,
   "metadata": {},
   "outputs": [],
   "source": [
    "fonc = Function('f')"
   ]
  },
  {
   "cell_type": "code",
   "execution_count": 17,
   "metadata": {
    "collapsed": false,
    "jupyter": {
     "outputs_hidden": false
    }
   },
   "outputs": [
    {
     "data": {
      "image/png": "[encoded data removed]",
      "text/latex": [
       "$\\displaystyle \\frac{d}{d x} f{\\left(x \\right)} = 9 f{\\left(x \\right)}$"
      ],
      "text/plain": [
       "d                \n",
       "──(f(x)) = 9⋅f(x)\n",
       "dx               "
      ]
     },
     "execution_count": 17,
     "metadata": {},
     "output_type": "execute_result"
    }
   ],
   "source": [
    "equad = Eq(Derivative(fonc(x), x), 9 * fonc(x))\n",
    "equad"
   ]
  },
  {
   "cell_type": "code",
   "execution_count": 18,
   "metadata": {},
   "outputs": [
    {
     "data": {
      "image/png": "[encoded data removed]",
      "text/latex": [
       "$\\displaystyle f{\\left(x \\right)} = C_{1} e^{9 x}$"
      ],
      "text/plain": [
       "           9⋅x\n",
       "f(x) = C₁⋅ℯ   "
      ]
     },
     "execution_count": 18,
     "metadata": {},
     "output_type": "execute_result"
    }
   ],
   "source": [
    "dsolve(equad, fonc(x))"
   ]
  }
 ],
 "metadata": {
  "kernelspec": {
   "display_name": "Python 3",
   "language": "python",
   "name": "python3"
  },
  "language_info": {
   "codemirror_mode": {
    "name": "ipython",
    "version": 3
   },
   "file_extension": ".py",
   "mimetype": "text/x-python",
   "name": "python",
   "nbconvert_exporter": "python",
   "pygments_lexer": "ipython3",
   "version": "3.7.3"
  }
 },
 "nbformat": 4,
 "nbformat_minor": 4
}
