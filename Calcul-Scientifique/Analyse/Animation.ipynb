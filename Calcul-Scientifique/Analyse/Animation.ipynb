{
 "cells": [
  {
   "cell_type": "code",
   "execution_count": 1,
   "metadata": {
    "collapsed": true,
    "deletable": true,
    "editable": true
   },
   "outputs": [],
   "source": [
    "import numpy as np\n",
    "from scipy.integrate import odeint\n",
    "import matplotlib.pyplot as plt"
   ]
  },
  {
   "cell_type": "code",
   "execution_count": 2,
   "metadata": {
    "collapsed": true,
    "deletable": true,
    "editable": true
   },
   "outputs": [],
   "source": [
    "%matplotlib inline"
   ]
  },
  {
   "cell_type": "markdown",
   "metadata": {
    "deletable": true,
    "editable": true
   },
   "source": [
    "# Animation simple"
   ]
  },
  {
   "cell_type": "markdown",
   "metadata": {
    "deletable": true,
    "editable": true
   },
   "source": [
    "On va construire une animation d'une particule parcourant une courbe paramétrée. Il s'agira de la courbe\n",
    "$$\n",
    "\\begin{cases}\n",
    "x(t)=(1+\\cos(nt)+\\sin^2(nt))\\cos(t),\\\\\n",
    "y(t)=(1+\\cos(nt)+\\sin^2(nt))\\sin(t)\n",
    "\\end{cases}\n",
    "$$"
   ]
  },
  {
   "cell_type": "markdown",
   "metadata": {
    "deletable": true,
    "editable": true
   },
   "source": [
    "### On commence par calculer les points"
   ]
  },
  {
   "cell_type": "code",
   "execution_count": 3,
   "metadata": {
    "collapsed": false,
    "deletable": true,
    "editable": true
   },
   "outputs": [],
   "source": [
    "n = 4\n",
    "t = np.linspace(0, 2*np.pi, 160)\n",
    "x = (1+np.cos(n*t)+(np.sin(n*t))**2)*np.cos(t)\n",
    "y = (1+np.cos(n*t)+(np.sin(n*t))**2)*np.sin(t)"
   ]
  },
  {
   "cell_type": "code",
   "execution_count": 4,
   "metadata": {
    "collapsed": false,
    "deletable": true,
    "editable": true
   },
   "outputs": [
    {
     "data": {
      "text/plain": [
       "[<matplotlib.lines.Line2D at 0x7fcfdd9de780>]"
      ]
     },
     "execution_count": 4,
     "metadata": {},
     "output_type": "execute_result"
    },
    {
     "data": {
      "image/png": "[encoded data removed]",
      "text/plain": [
       "<matplotlib.figure.Figure at 0x7fcfdda502e8>"
      ]
     },
     "metadata": {},
     "output_type": "display_data"
    }
   ],
   "source": [
    "plt.plot(x, y)"
   ]
  },
  {
   "cell_type": "markdown",
   "metadata": {
    "deletable": true,
    "editable": true
   },
   "source": [
    "### On génère l'animation proprement dite"
   ]
  },
  {
   "cell_type": "code",
   "execution_count": 5,
   "metadata": {
    "collapsed": true,
    "deletable": true,
    "editable": true
   },
   "outputs": [],
   "source": [
    "import matplotlib.animation as animation"
   ]
  },
  {
   "cell_type": "code",
   "execution_count": 6,
   "metadata": {
    "collapsed": false,
    "deletable": true,
    "editable": true
   },
   "outputs": [
    {
     "data": {
      "image/png": "[encoded data removed]",
      "text/plain": [
       "<matplotlib.figure.Figure at 0x7fcfdd9b12e8>"
      ]
     },
     "metadata": {},
     "output_type": "display_data"
    }
   ],
   "source": [
    "# Création de la figure et de l'axe\n",
    "\n",
    "fig, ax = plt.subplots()\n",
    "\n",
    "# Création de la ligne qui sera mise à jour au fur et à mesure\n",
    "line, = ax.plot([],[], color='blue')\n",
    "point, = ax.plot([], [], ls=\"none\", marker=\"o\")\n",
    "\n",
    "#Gestion des limites de la fenêtre\n",
    "ax.set_xlim([1.05*np.min(x), 1.05*np.max(x)])\n",
    "ax.set_ylim([1.05*np.min(y), 1.05*np.max(y)])\n",
    "\n",
    "\n",
    "# Création de la function qui sera appelée à \"chaque nouvelle image\"\n",
    "def animate(k):\n",
    "    i = min(k, x.size)\n",
    "    line.set_data(x[:i], y[:i])\n",
    "    point.set_data(x[i], y[i])\n",
    "    return line, point\n",
    "\n",
    "# Génération de l'animation, frames précise les arguments numérique reçus par func (ici animate), \n",
    "# interval est la durée d'une image en ms, blit gère la mise à jour\n",
    "ani = animation.FuncAnimation(fig=fig, func=animate, frames=range(x.size), interval=50, blit=True)\n"
   ]
  },
  {
   "cell_type": "code",
   "execution_count": 7,
   "metadata": {
    "collapsed": false,
    "deletable": true,
    "editable": true
   },
   "outputs": [],
   "source": [
    "# Création du fichier, dpi : résolution, fps : images par secondes\n",
    "\n",
    "ani.save(filename=\"courbe.mp4\", dpi =80, fps=20)"
   ]
  },
  {
   "cell_type": "markdown",
   "metadata": {
    "collapsed": true,
    "deletable": true,
    "editable": true
   },
   "source": [
    "### Visualisation dans le notebook"
   ]
  },
  {
   "cell_type": "code",
   "execution_count": 8,
   "metadata": {
    "collapsed": false,
    "deletable": true,
    "editable": true
   },
   "outputs": [
    {
     "data": {
      "text/html": [
       "\n",
       "<video width=\"800\" height=\"400\" controls=\"controls\">\n",
       "  <source src=\"courbe.mp4\" type=\"video/mp4\" />\n",
       "</video>"
      ],
      "text/plain": [
       "<IPython.core.display.HTML object>"
      ]
     },
     "metadata": {},
     "output_type": "display_data"
    }
   ],
   "source": [
    "%%html\n",
    "\n",
    "<video width=\"800\" height=\"400\" controls=\"controls\">\n",
    "  <source src=\"courbe.mp4\" type=\"video/mp4\" />\n",
    "</video>"
   ]
  },
  {
   "cell_type": "markdown",
   "metadata": {
    "deletable": true,
    "editable": true
   },
   "source": [
    "### Alternative pour certains navigateurs"
   ]
  },
  {
   "cell_type": "code",
   "execution_count": 9,
   "metadata": {
    "collapsed": true,
    "deletable": true,
    "editable": true
   },
   "outputs": [],
   "source": [
    "from IPython.display import HTML"
   ]
  },
  {
   "cell_type": "code",
   "execution_count": 10,
   "metadata": {
    "collapsed": false,
    "deletable": true,
    "editable": true
   },
   "outputs": [
    {
     "data": {
      "text/html": [
       "<video width=\"432\" height=\"288\" controls autoplay loop>\n",
       "  <source type=\"video/mp4\" src=\"data:video/mp4;base64,AAAAHGZ0eXBNNFYgAAACAGlzb21pc28yYXZjMQAAAAhmcmVlAABah21kYXQAAAKuBgX//6rcRem9\n",
       "5tlIt5Ys2CDZI+7veDI2NCAtIGNvcmUgMTQ4IHIyNjQzIDVjNjU3MDQgLSBILjI2NC9NUEVHLTQg\n",
       "QVZDIGNvZGVjIC0gQ29weWxlZnQgMjAwMy0yMDE1IC0gaHR0cDovL3d3dy52aWRlb2xhbi5vcmcv\n",
       "eDI2NC5odG1sIC0gb3B0aW9uczogY2FiYWM9MSByZWY9MyBkZWJsb2NrPTE6MDowIGFuYWx5c2U9\n",
       "MHgzOjB4MTEzIG1lPWhleCBzdWJtZT03IHBzeT0xIHBzeV9yZD0xLjAwOjAuMDAgbWl4ZWRfcmVm\n",
       "PTEgbWVfcmFuZ2U9MTYgY2hyb21hX21lPTEgdHJlbGxpcz0xIDh4OGRjdD0xIGNxbT0wIGRlYWR6\n",
       "b25lPTIxLDExIGZhc3RfcHNraXA9MSBjaHJvbWFfcXBfb2Zmc2V0PS0yIHRocmVhZHM9NiBsb29r\n",
       "YWhlYWRfdGhyZWFkcz0xIHNsaWNlZF90aHJlYWRzPTAgbnI9MCBkZWNpbWF0ZT0xIGludGVybGFj\n",
       "ZWQ9MCBibHVyYXlfY29tcGF0PTAgY29uc3RyYWluZWRfaW50cmE9MCBiZnJhbWVzPTMgYl9weXJh\n",
       "bWlkPTIgYl9hZGFwdD0xIGJfYmlhcz0wIGRpcmVjdD0xIHdlaWdodGI9MSBvcGVuX2dvcD0wIHdl\n",
       "aWdodHA9MiBrZXlpbnQ9MjUwIGtleWludF9taW49MjAgc2NlbmVjdXQ9NDAgaW50cmFfcmVmcmVz\n",
       "aD0wIHJjX2xvb2thaGVhZD00MCByYz1jcmYgbWJ0cmVlPTEgY3JmPTIzLjAgcWNvbXA9MC42MCBx\n",
       "cG1pbj0wIHFwbWF4PTY5IHFwc3RlcD00IGlwX3JhdGlvPTEuNDAgYXE9MToxLjAwAIAAAAS4ZYiE\n",
       "ADv//vdOvwKbRZdqA5JXCvbKpCZZuVJrAfKmAAADAAARsG58lw15q9IkAACxXj4Lxf+ADzC3f8LK\n",
       "ZKrQh4kqeBB2PLj78Me2wWMQXxIi4fXb8atRXRCQV6Ygpa1HVLvE6pcbkRb0cQK3AfVpKg3j4zGf\n",
       "i7zdXeaRC85dMoCLY+Lt0quSq96gOqEnU7KCkP87oH83prhhHUjIaLiCVS2Q/XwGcgyGKDbDSB7I\n",
       "OLBjbOL61zefaku7DquxCAAAsB+f49obAAGoOItS6qG7ZPDgF8xFbY1KCyUO0y41iHgV5EiQW3S8\n",
       "DCdopLHh1ufcJpo2U71UOwTa2bVtWRAlxgRsTlMS/MPELTyFbGeVVDQRRIJyygJjeblgZBuHmk4Z\n",
       "2x78tajMMi7+EL7y2INb4sloLhILJCGOUcoY6exrUc3NW9Y68DXcquE37Ok4r7GBrJn8C71ecsLE\n",
       "totoRHdSoa4evZ/CkFGlrsiAhZfVXuyKjNxi6GDKROvrc/TtZf1Tj31VKZ718dHCKAF4BfYfcVfa\n",
       "iFPsDCp7OH79T13X3LGVbRNjHEmQhg20vsWLhkQsL4rU8FW7QEANlrwxGL9+/x+47i+gsYRB2iv1\n",
       "eiSZ7fI2QmXlKg28A3cSCGzepMl/l11aPftXkClTbphAjvYqD/hCpO/XXKc5mqLNqPs5kdALfJ7d\n",
       "3W2dkP5jG0PT1mV4p/w650SlDYDGhlMpKbDQgRgzEdHH/k7/up2ygyfg9as5kfjZMMNVXuTu0az4\n",
       "1u5RpmZY4lzirL8NR8ArQPGNg1OUBCx3g9WfmU9a8+WXjHGfUftEipLEO2dC5WxoOy/pXK1EN/dC\n",
       "Ta/9yGpmKV9ojSJB+NUn85W0KBOGIq+3kfgL7UPoBXQf4znNISCJsbfRS8CMvfZwWqk/cVx5N99B\n",
       "/EeWnl84L+EA35JBoeRyzUUoYyftIlODaQCI6hZYmlx/9ZDNMnkEjXYauov/44MyPRi7hqA9+cfF\n",
       "xzzurz/Ls9dPLtZqNIICQ9O7Ldmd05NhWJegfYaYIEq2iKURSVPGfIshhM8OwIp7Booi7x6fCxbt\n",
       "S/Q+s6bfQbWsinIDc3TegA2B+7oUj0V/ccl9/++/A7A0W/FCM/XDOderuph9MUfxtTyIMW63MLEm\n",
       "hql1ycRYbXJMuqyWiMXe+4uJaqfUAz6NZz1/4fi/BffuWgwd5MmHVdqn+MgiJnRUo9DYwo+GKt0z\n",
       "Qks+MXOonKSUJGaZ521+Jn5KLrYxYqHWmVI9pXoTfJy3G6mYXvOzphdb2IOdf98Le96VXynNHZt9\n",
       "PRyMLLVVIK8pmsOFMFz1fWTgebj2shELMukPRB6J0CwSziA1fuZzEcGhCLe5oBK1FFh4EFBej+1s\n",
       "D1RmR6+sL1zv1HS0Hv2Gj3UY2QqreuavEgCPAKw6vncwhlTnlXhXUHWkF9GjNqL2W2MWVaVRDG4K\n",
       "buRk6MZFJJaSs/pUfjxCrORYhRbplGI+/95xhIzEgdqvW0QAnH2DKlAAuQG4n7r8dZbz8DUWC/lC\n",
       "VhOXeTrE2z4hkmhA3OmU6H4d4n53lnSRsS3gEqEoNKaPxoqU+tdgyCzCK7y6EW5/YbnRddmeOf7o\n",
       "IjSg8KEaioEAAAFlQZokbEO//qmWAIA1gVAFmC9U4cqzBbjXklkBY73cn//f/uwFBC3IPQxUcxT6\n",
       "GorSeg0HEnwgo6srez3fh8SNh7+xMjoqtb4lGu/esE44kvGawrR5NLtHxHl8stUWHeFTH8lqlf87\n",
       "Ys+/EJKQyXuTEAJIZf7DBd39frjtHVdGqV1qidYXfQdE+CaSGV9AgJAicNv2zwu/HmCdo3wx3Y3v\n",
       "JguPqC2eHZ5PxTaFxZamI5nthpnqejw0ZD2ERiKz/AfrsxMvH0mUmdDICPFL040uQz8yx7P66B4o\n",
       "liKogQmoerhNCVKd6FFp0G7k/UdvjWfvj0183XAi5d2pBkBZoHKGhbtRkN4LKyvI0UCscvCagLhw\n",
       "oBdpa1lX7ZG85Wk4GCG//DyyldQ+oN6D7KRdVG3i19aGlhT+ws7GsXehjzAURmjActO1QrDw5Dc6\n",
       "rb55bZcfPt2idb+nQrKW7tL5DtqQl79hby8HAAAARUGeQniGfwBxORG7yIRbcZiQ+nZEawsAGq/g\n",
       "tUIIeVMmdxI6lYW3Ppm2rcxtC43tQxVgw9fLjbQaOfb3lKo33BgrLRPrWQAAACUBnmF0Qr8ALomF\n",
       "BM5CzoHWWYrN19S1/X6GcH7UCB+qpkzBzXU0AAAAGwGeY2pCvwAGwdKeXmDnaeyAYFY8TRWRnu8/\n",
       "8QAAAGdBmmVJqEFomUwIf//+qZYABCDBcAp0gBNNqpKz4MsQrwR26zCiepceRhZDdDcX54nsfJd3\n",
       "84UqTXXjAbU0hlW4FAmJOr7+PrxL76dJf2NRebvuILZ4lzdlvtpIKYahRpn7L7jAWxrhAAAA3UGa\n",
       "iUnhClJlMCH//qmWAAiPK/8GymIADQkLFl+g0chXRommtVZaqbg0BsIt6ZxI46/abGxGivHw7E6d\n",
       "WcGhpQiNpBvI8MA7TVl+vaZe1sQYVsd3Aq13Dn8GtZdF2NMhq8qb48v6zTRHpSc/Irx3GcyzBYUA\n",
       "ThqnffsHWug46qB73d84ZyfHD/a1llUGBn1AH0soo9YBPiXnTfzJ+iA7qfIWbFu4YzbtC2ccPiDu\n",
       "HUlek9jRUqmmqYbQAuGJ1cqAXoun/9eR4M+3tFmXhGv8imqb7bRMo+FMrrtOUKeBAAAAYEGep0U0\n",
       "TDP/AAdsq9I+CTyXAIPSqBHh3pK/KvIrZfRP827Ymae2OL5GJCRF7FbJeYGmCYQnojrUfnrGdv89\n",
       "4vUVwiphV6cxY5W0yew9o7SuJq2eFyw5pSvbwYBiJRjv+QAAADYBnsZ0Qr8ADYR13J/S/vvMoqAC\n",
       "Z2Ek/bCpn8YziMS/YT0CTgw/U4tVIB3IhcIIwreOTxxcGPwAAAAwAZ7IakK/AA3ToWOtWYoU4dpU\n",
       "XoATDxbAR2N7Pw9E4AHKWJqOXn+BeobMsr2MSwH4AAABZEGazUmoQWiZTAh3//6plgAJga+UBjfD\n",
       "StOHDlo7AcTxtcWp2RGJIoctY25v7vjRpVeEYJDCxJuO31naZbKlVgLbEVHTKQronpZ0cuINgcWE\n",
       "5867WMsFIXku1FwBhn5yldjgBvDn8ka/pELPe1r1RWqejSbSZJNWJ2ltvEKBQ7w3JwAB2wyvQ6QG\n",
       "imsd3aOtQo6yNNv0ntiSsX87biNQHLw6774AhI9qiO//+m7uEBidrSQWb+qF52bi0nFzGjbjbypU\n",
       "BLxzoHCWCgdLou54dEiL1yzkvIZg+YlxYEpxrxizI7t4fh9anDcGrFuxLTaQYhJZgiBG7p7PXhzH\n",
       "C7Jqm26jy4usdIebNbEKrLUTslyGRmm+KTN55WgvnMCNWLFIj3+95NAZnSB8f01UaCODjBexM+rl\n",
       "IgYLS+MpuiULfOg25nE8B+KcqEG7Cro80NmAXXgsLLg/MTNFiqtJBdtHhf1bnc19AAAAY0Ge60UR\n",
       "LDP/AAgtxANRw9/DRrlE5AA1X79q7voQThapKD5CIet9hTP7FWIyyH4aCC+AqcpRWrGVF+pbNBQj\n",
       "ko/S/YJpIauP4SNRLsXJHTX+GwDgFhOvSI+uHc72s1Fqsh8P/AAAAEsBnwp0Qr8ADoQ3GfFzwAAl\n",
       "OKcVOnMz2N8QbJx4eff9oYl7QLnUNvnvw9GG2GBNH349zpzOXIgrCatLuDopyI77CihnLAcrOfEo\n",
       "g/8AAABmAZ8MakK/AA8zJJ3NergHf29ACyYlB+pKAWTyFWC9U3HanqxTJt1RnlXx7nSvL1ZuRPFc\n",
       "yCC87oy+tMt2alU578zsuXgKIByD8diMMUDxmtY1ghYVkItCFuTT8qdVA9CKQvEwyApXAAACXkGb\n",
       "EUmoQWyZTAh3//6plgAJgqEEczVPSISW+cFd7UP8VKxJZwttbaA5MFcdPHGm4lZEDRRVwCPY9yle\n",
       "PCXs2pNquQ6YViyMbDnnEzHnjmZ4FCO00VeumI7/ZWMsQfq2Y4BualbQuktJg0+B9jexuDwyZzZ5\n",
       "yD+OWOM4Eb27uD75drq3cmfV6g/8b49Ne5DZqzk+6QxwKoRkadfH4zL71xqjynYsSKP5krY7qN+r\n",
       "YmhFFio7v+ZlbIfeAegwvEubmtMvm6+JbFnlUSTtqjyO6rHWnVGWxG22JGwLQhcBqk1hFcpFY+PQ\n",
       "oPCLhXY0ruGYyvuxhl+AbN53xnM2886AFm0O+222sMIXQoYQWAAyEXc6S5o9Sr0RKUncK7LaiRiL\n",
       "BNIxNskLFAUpERygt5uqDxGomPy/kAnJ/+PvD30Gui18g/0CZ5t8IWcLWW+W2HoApaf9mtqjRfOI\n",
       "MOhU9yvPV0W6x3YyRnRjSKeU2hNqYppxTp22JC/6sIXLD+hMqhYVbEt3l1Bd7v0exdaJs8Nr2DL0\n",
       "/DwMX8gApRIrOxr0QFm2E5yRhT1/rHF60DnbUfcpr6IfV4Ec2/6avH4j7nHIhzNdA2z+3yDzjUwt\n",
       "b+h3qB5VbI/lxSBYa2/Dg9J20WVJwOdCDPC0/2enIFf0vem1LEHwmkgnoBknjNWdJGCNwPLkeOgq\n",
       "61KXxekTqq/OxjAXtizB/8IjFxQY4e2ugdnm3//fWqN4HBRcnYBSpk3/tSrQQubSlBBwRjkanvYs\n",
       "8Pn3vrjHtsZSgZbBJMufakTiywebX+mZ0B3pGGAbNHQPEQAAAFxBny9FFSwz/wAILFT6R0masEMv\n",
       "yVwAZ3WgzwmBpiSuQAlqnmWme2mBYrBM2KXTRE8sh+no/fjLG/1Oc5lbliXpq9pqulVtjsVKtHnm\n",
       "4NfxBudbRqUL5hR2AICEwQAAAGcBn050Qr8ADy8LUJiB/r2CkaFCb1XvYDMtOgBKkrsZC+5G1k2E\n",
       "OOTRR8quhhIfAtxcc37CeBmMldsGjcRrC8zmJHLrIWs0CHC6vpYyE/VcEI6qxtN7pl0sCvsBMXmI\n",
       "MOBRNOxjtwnoAAAAbAGfUGpCvwAIFKvgYkyYAcYqBsA8cEaYu3XD/MlBmd5B5LXVBFSMSy8NqxR6\n",
       "OIeDoSAFIeBIrqTQqgQgJway3eA6+bNEU/dZm54nu9XPjP//lpcGJRZEL/xuTNRbI/cHIjvvcxBY\n",
       "0/XTPT5JUwAAALdBm1JJqEFsmUwIf//+qZYAnO9f/hK8opk55tPmu/ddmnGBlTMvfTZwcsMbuO6F\n",
       "p8Oi4jET5ZIlpZlO0OxgAqwXsvABI6Et1MB8gV7K9quZX6t+NliSqjKzNN9gHs3dvq2b2XeClMI6\n",
       "LmPytG29X9JDOm3KCRIbb9MlHlAfIhuu1AUfdNWC3LuRvFdTgG2KFnUtNm2+T7obt3rz3exh5cby\n",
       "NrrxlBpxMJigrjqEEBXJzJJaqd/1N6EAAACAQZt2SeEKUmUwIf/+qZYABKDu+AE6WpQOiDWGeuf4\n",
       "ToCSN/NeFxHbmtBJI1tt6bQZ2HWIfS8/jJQTQuT0iqElHRZQ6A/lzoIquCOgTW0fA2OxYMm4yT6V\n",
       "MkFyiqG1s7wl/01LV8X4uZFRnBNxQVolRHMUy6Ycw+aCBInjvUwd8l4AAAA/QZ+URTRMM/8AA+KM\n",
       "/qvzFCP7IxIBhZIVVbwAt0mYPfF3J1A/51wGT9E5kEJJwca2f8chw5WKgtzU8KNhWINCAAAAJwGf\n",
       "s3RCvwAEVaMMaPorbAAfBJXhTbuh1JWN9Gwwqmgy4eBHhCC2gQAAADEBn7VqQr8ABFcsabRYAOMh\n",
       "+6s124yKkAOIf16DsqDHwU+PasZd3NUAzDhsEXzQ1oLaAAABokGbukmoQWiZTAh///6plgAULhb8\n",
       "QIIwAIg+DB4+4yQqsORcf6er4V8V5tGBo/sA8VXeOlUQ6vYt4F+guAtRhpj7cpHzeUsN+pw6rUNr\n",
       "RvzeaPK5kgG4TqDc0DGKm6aciS4BNgDQdCx0vw3Tl8O6+usf6WdCCX4rt4MwWJANjfR1X2fiFxWc\n",
       "D4JqN669e08u55yqCvChTPmdzqDpru3P48Yx3nTH9cuQyHhdD4Qy43mkdsN0oj8qbBs55EFyenA6\n",
       "jhrm/ptyNPxpzEVzqKtoACOiXNmvJgqo8XR0hqj4ZuL5+BmQWL7IipEUR5bVwuy7oEft8AHHlKHx\n",
       "A8aDl/hr1Uc7msWk6tvESRfNOkyOnphjiyEVuvC1R90K6LGEl99AoyjlVqeZoRgqD7vrI+Yp8L0H\n",
       "Kf+UjcqkfXOxYnnKGjvaK2IMmOtKx9JStfpsCkE+TM7BLmFIGcVogWc9p/eU5Xj8WATpXhnudwuX\n",
       "3YAUet7Kh72xtXyTToDvAaKcYn2s3hsqZ/TjC22rImyYENOm6XkMHagAY8RCtIrtMNgbTEXDqSEA\n",
       "AABpQZ/YRREsM/8AEVuLZDgI+tjyfbiBR622zsAHOHeerpbozSJrC+OUoV+5fXAM7QApKEWkJ9ng\n",
       "Kiuw6WTQiNqU/ElevxI89jvVA8dzOSh922d0gHFFoegaLfqYSO7WPVy7o0MGyr2bS/CBAAAAVAGf\n",
       "93RCvwAPjEDdlIALBOdOkPyZJ7ygNxIY4jqHDdowjlZb8ziy7+G4hD//CbDHSnUh5hFxX0e9Ipaa\n",
       "BR95Tzm88BLzJjiCz0Iudx78AL6fRCfaGwAAAGABn/lqQr8AH8ZUt0XwPiXMALRUNsdvNYfHO6od\n",
       "jvIu0l5Z1YmGptIeHQOKTzao/u2TEjw1EUjGbGaUYap1WU9FQ8RgmCrGTRcQj/A7poQ5KYbrf/tn\n",
       "eAj5eLabNE7Cw2EAAAGxQZv+SahBbJlMCHf//qmWAE55ItgespHOygAlyFMlOwRK//0TEg2B4Fab\n",
       "BgpOOvzpQurDCgUbCm2JAReYyzvhm5uIWx+zAYPl6jOJAAgdtALLJNTWoz6Ka4DFA5P09fPSaDnN\n",
       "XJOKtC20v9YP8fa9yx5iqc30R4jdDNAUbLe6bBgaG8KJxklwb6O2GBwgc1TxM82IPZ9mzUKjOl4V\n",
       "h2SKs05fzqyWAG1d+HxR/8hKveCjh4LzD4j1asexm5jneC0+Q/WUvuUvPnTmsLMjP/MC8Hp6rZrd\n",
       "+Z6nhvox0bg6i2vxngXpGEZcGvMN3r9NeNDWNKT1SDcg3H1EG1eTad1ND8rfAA7fPGOlcqGtT5is\n",
       "aa1DMFSo1mkpWR3D9D/a8m8MV94a4Jqt0VvdQrHIDuM2iR6ZXOg0U2BWEhnO2dV5qyz9qaPmXTmG\n",
       "stdq702JBK1VUPbnLsIRtUVj1GNTh3UWNnA+uW4CnBbhQJjOK5uyIgVmLYa8Lc7xD2CKgxdmiYJy\n",
       "f5KoRSo35fg672iKHoe/YXdtSfgmVcZmf1RPrVOOrS+XEEx1vnAucDAxCkeC8wVXzAAAAGNBnhxF\n",
       "FSwz/wBFbiAe6/PgbOkx/tbABD9FXIB2eSmZVJQ5ZB4l1fFbGqOIui83nd+h7WLMDGUzv3BqM34n\n",
       "QIYfBosRjrtZ0sgolvBc7q5xFF79SMLRNNVBAHhruwiMoPS7MxsAAABdAZ47dEK/AD+Q3I+vW5No\n",
       "EAgBa394Ha2kY4r15iwSP7Mnsy/sn6Q16rR4WoXp6fpXYZpN129B+8bzviPallx1F7nQ5LUS6ppK\n",
       "wraCxbrM9rI5GH5Ig4va8AeMQ1JxAAAAIgGePWpCvwB/GSOQe+dWR+3yUEgBHTEPPHfd3UQMnptM\n",
       "GzAAAAD1QZoiSahBbJlMCHf//qmWAKbnP/yUXQABxvhowHPeeMYFbdYMvQs1Y8VgeRve3Pdg3qx6\n",
       "u/i778uXQ2aO1m+/G2kVJgz97zZock0WE+MTYIZLH1TIO9lGa+aLOu9FSo8qjCjpYRNVF9mvBbAS\n",
       "kANkzmJ4IQ4tCyLS2S2t2ZeGWRbgHuUYi1fWPLS97WA8dfgZ+idVE5bQnow+cHO2/cWvtTQmam/+\n",
       "3m9+c0a9wQS6lXgVlc5GadPge2rdmpoANuJb/RuwTJo6KtPUW5HP9CX933648jp37gY7Rc/+/Wjj\n",
       "Vf/4oCURdR1RkDGsigzkPlxnEL5NHdAAAABSQZ5ARRUsM/8Ajtv37/40vbJcAF1n8F1j/gp0D1KX\n",
       "JhnsL6ziro5Zb6vCENmhQH3Ad6T+UdBdYK4xCQWofCWRbTADXAiyFUG1kyrRRun6JMv7gQAAAEoB\n",
       "nn90Qr8A/u2eX/eY4sOAD91OpcsZgvfdA8l0ANZbSpep03C3lv1FmutWMcvssAc9Vk7HrfZ2EcQ4\n",
       "enfdORtErbgO2jM/idsFNAAAADYBnmFqQr8BBtc88hoAAfzzoaRLLrKg4smZ8FShZuX719/T46Di\n",
       "P7SYkPFIuaZcUb0fTI6Kg4EAAAEjQZpmSahBbJlMCG///qeEAVLNP/DpIlgAKk9naTwPOJm/qenL\n",
       "o0SRjXgwG23V+mo6/RFFHnESZA5a/jSmED2bYksbkfG480wfToyP33bbrGigy0HleHFUG3jx7DA2\n",
       "m138nwdL+k3Mzmg+PyCuGJiozOvU4gosBgiJGpbp39iXYiDPDM0g9xdkHla6gDWXd92bbiriqwRV\n",
       "E0hvmJcms81Jl3FPXOsc7yXfq53JvuROyyPGGmdclkP5G0DeOER0DIR0wWeSOy7B/EqDvaDfomAI\n",
       "6Fa279h5tso/BNH8hMt1gn5rEsOCMl5euIitlD0QWVLr8nkm/VVNYDAAvsw/MF08Bc13dzON70DQ\n",
       "w+N5AVH+7a5HczaPR3sPLhjSL3xLOwhGGAd0AAAAWkGehEUVLDP/AJLcO2VAAOf+986kTlQFpECA\n",
       "X9FMDQJiMzx12GdQ4jJSsRqwmLju6UUhPGNI/lWQfRP3HEQMI4RvrLiB5SILyhq0kBPVMsm5hi8B\n",
       "EOBiF+wi4QAAADYBnqN0Qr8CC5JxGQqMjVenGQAA/OxZVZKKf2UZ4ivGIfWN7iBLKUYWKOgDkZx0\n",
       "++LlLWYCjYEAAAArAZ6lakK/AgrUHpB+AdnWy2kBlb0AJl08e7ooA+91uvFhJhvp5KxdGZI1IQAA\n",
       "AHtBmqdJqEFsmUwIb//+p4QBXc0/8FCtAIR7zJq0p5inFDRvRNDaVIj7avY59jZb+AbYqpdHCG0D\n",
       "xtcrk5ULmqOqVk2MMpYgzdtwu38kRrAHWpL9Z9M+pEuh7lHHB8f3CBXEfguPCQ05P+iisqtDesIq\n",
       "qsBJ95dhCXreAwcAAABjQZrISeEKUmUwIb/+p4QBW9GkH7sM+2xrAQlAZyvnt39kwqYSVwPp9vqx\n",
       "sPk/543xyAV6YeIQcyw36QzJtdW75pLmUvmuG0DIeCU6EdpS6hz0FSom7ylJjG+ZfsmvIbbmkgMu\n",
       "AAAAZkGa6UnhDomUwIb//qeEAVrFyibWfqO5ABYK1msNhLZ7ERO1Na+W8KV8OLbMGofzvqStjO6Y\n",
       "Wak4zSWImVhNxqZeHf2wIPKdgrE6OIcav1LZNZHAzGdXr8d1A587rjec1cW6jfyRqwAAAGtBmwpJ\n",
       "4Q8mUwIb//6nhAFn72NqkCO5SJ9kOAJhdpAH/1S3Kx8VCCXxb/3vE+Ca3w0ggk4s/X6sEHlQFEB1\n",
       "b18yAa8TOrlAb1Rfe3fibs1lRiPP0xZZnrihFXos0ZEBjHLgDDntkJD3elxJxwAAAHNBmytJ4Q8m\n",
       "UwIb//6nhAFn73S74xAA43vK/W5VgKFBMqIrCZUtjcpDtah+hAABbClWxh1q70aMDIO+gKI+ovVT\n",
       "957Z3wCg7z9jLWra5AO0qJcV3QmCdKKtLhxMUoqmsXUOdvJXX7okKsSrV+7MZSgU8A44AAAAUEGb\n",
       "TEnhDyZTAhv//qeEAXTC3+C82MF5Br10RIia4u7r4IdX8Qc6F2qQnYCsi21VopudgurTfcLx5X3y\n",
       "Q/FmTRP7UD0bPWd88+pkIo5cQIWAAAAAWUGbbUnhDyZTAhv//qeEAXL1jHuhfSAFid3/Zk57YyV2\n",
       "eQRzN/v/qPSeTsg0bpN3ZsvB902I2jHx8vCPOsWXy7ZVZE2mz6q1b+r7Sv9m3We9QNtPWM3SwFNB\n",
       "AAAAXEGbjknhDyZTAh3//qmWAMLQT8e7fge0DC1FjilACWUIlcadmJl/52MW4l7WDAXnIUXj3M8H\n",
       "Fn34AcJ2U1rd/MGP58TBtAm8NePcwNItx5LwpjNH6iBYLt2hmAUlAAAAi0Gbr0nhDyZTAh3//qmW\n",
       "AMoiJ2zX4ICqoLoAJfGkW5p5n36tCY88uOBMkO4YTbRh5dPC5e5z0GcKtAYV5F1yWnOUbBOkoKbD\n",
       "5TAjpbuCxS5NAM16GUptgUaoqPIlHMXgwZkNYxy4k6ywuGPLIlZ8nazaRWnqExcP5e4wjPdjqRVj\n",
       "XetV9EDYyo6YHYEAAAClQZvQSeEPJlMCH//+qZYFS1KG0+UAav//EEX30AJmT26F6gMnCX94oBxp\n",
       "JPzuO++sisBwU5dJX4l71d1oDLwv742UG8Xd7Ra0bBgplLq1rstq9Nivn4sS/I68oX/68WIAEaeF\n",
       "SktyP9IHSTZG5U+Uf4oWOKzieJ874ddWzMLsQvNUegsK76gN52mrX4uHvFpwoCL5q0An+alBl4av\n",
       "pLt5Egl2EAH+AAABCUGb9EnhDyZTAh///qmWAMRev/zKZwoA5l2V522FeYUb7eltJVbRRe/6snjM\n",
       "cBHIt+dbDt6NpYdxqEzl13mFN/IJ6XU9Vb6MFnkfyyGfNH03aEkR++qx1wmyb9qks/EPGPi9zGxR\n",
       "k9prPGgUigUeD/kzvi7OgZWdXm30PSA+HXyVCIuHS+J/CQD+rSGx1BLhy3p5XooZBE5s1dKduivI\n",
       "5MkfQ+h6kkOo+gYekppDSeyJZ3pW44vluMdCIpaEo0oSuYng7INdkXbT2uUbg7+G5DJqZq1tf3Am\n",
       "CD7MexS0qCw8egmmuJv635Jgw1dHskFBeBfjqnTsKMYGFmggc6kKla+kVdFebc5A7oAAAABZQZ4S\n",
       "RRE8M/8Ao1yuVJxCBXui07327ABDXEtCwbA/D76r4C1fM64oOQhgQV20G805REhebKhlqMH7bBmx\n",
       "X3IVSnGASpxVfiOO+QHVukWGd+N+YC6wdvww6YEAAAApAZ4xdEK/AS34yDVABO2U42nB62CAhH05\n",
       "Ep4rjgoRlg0TSQLaMaSKQW0AAABZAZ4zakK/AS7X5EwFUhiAFrgEnM2dh3A+ZVh6RIWfLwj1iS7s\n",
       "TVjDJn1WlphbGN5Orq63EofvyC6RxVqt/Nipl78gBgNGJGoj/cvTQqU0b1D8541JmUzWQWUAAAG3\n",
       "QZo4SahBaJlMCH///qmWAMLZuSA8lsywuJC0ATbeg6jILOLqxqzFrOEZT3ry9ZbbWhKiictD/ejW\n",
       "x3mULd4HaW38spKtGb8s7TIOqAxcT9DHpWj2wJuvXqLPCN1PxVJ3wfeuk/u7hJUHE5tWQYtzHdYc\n",
       "TCONnF0czYINYM6bA4qQQwPBa6drwrm5pFeHdYOXasOKooqezTPjLYjYbU6GuKz/NskdjkUmieCR\n",
       "lNvBGlsbmNZQGi7nO9kxH34FYjXBQAE3i1cMq0F6OSVVhSTtuwvff+HdteTRiML+P6VeF++a17Ja\n",
       "FAG+9zu0M3axcpIfvr8I9UmVjOkCx7eGoy09LSOg8WK3CgLzrvgaPD/bhabwevRVTG0f8VJUSmQQ\n",
       "SPJmL1WOlYkfGF7+I57f6ejPIDCgO+ZszHrrwxCKEsOiov387a8NqREj60E9fasFyfKYmBobGA7M\n",
       "3P4hLiNIiKrbZ+63KSgTzLcQy7qJfyZdk5h1nINgnnIzzktny8zs9QAMu992aAXvkSXbP5l+qjdt\n",
       "15EbIxo8cmqMf1ZNboIYKK8VxTgf5+3+6Qnw7TeGhBQQ81PAow7QMQAAAGJBnlZFESwz/wCjqH8X\n",
       "LibdPRYl53PzSgAX15F5JCD1nhSYwCiNy6SB3Aucfv4fZIZtyX5Fv5jLTQUIZcOJZIp+WqTv9wAZ\n",
       "hvEldHKDHapPm0A7L/p3HvhcJIjO6g9p8TNLagAAAFcBnnV0Qr8BLnQ9gTAPIkp6ANoAaqvmNZKd\n",
       "pmdKw4fg63ooGvrkXjQo7LjHeROWNw49lgbtdyLkfCwWV7gZKnRl/52Spu9uAVbyQwi1Rvaym3Mc\n",
       "45g1e5cAAABOAZ53akK/ACWyE8umP3CKbf/rXHMgRoAbauStIwwAwf0UDdHv5S11YaxgWDzLHDEP\n",
       "ZgfFag/yelaNAYBMp1UkndprIgcR21Ruqd6Y9h1bAAABMUGafEmoQWyZTAh///6plgAFmL/6NKh+\n",
       "ywJcgD6jdbSNq/Nftrz2mdhwK/r/2Bd6lbV1qknMXdmoAQmpC9HPnhBk2EpQ6BUdtciozChiHXlI\n",
       "iRr1e2bzWcHe9h2qggNICcEei1J91X64rPH0Bt/OK5NVi3xmUtX97a7ikeZbq6iZn8+/h9jFcu89\n",
       "07L0qgcvJpwwyneuHmH01WjYPhryCt6af49OwYsGNYDCIf8Zb6vRQGnao653O/6qMwUkNHbeuoCq\n",
       "NVCB7jPsiliv2tYGxA/qqwZ01QL3l3kyBTHmxJEPxQhQOdaVCk0QWuZ6Mlwe9oWyAIMt4AXYEBFo\n",
       "YwJFFOdFjFV3tjXDD2Q5QAdc3W8PBgFmBB+JUGbZuXOnulTv21wbmIwuApfUigjgHBjn50nTAAAA\n",
       "YkGemkUVLDP/AE+psF8YDv78WTD2KfsanF+3cAHNGuXW5ry3iIwyJqvnfgE8U7rRXupirCAHiyfC\n",
       "FXaK9e0XHHd5gjffRPAA1w5QNOUL3GHErcpCKAtwB3uiinWzXnt5FK/DAAAAGAGeuXRCvwAIzl7H\n",
       "dnLCHKm5bLtyRhqbpgAAABwBnrtqQr8ABFZq4AAftHQ/9giaIzmxeQRND7UhAAABQ0GaoEmoQWyZ\n",
       "TAh///6plgAG8o25of2EEY4HLDmL6fadtm8VKYGVHVwTwnepD1o/MjgoB3XAm5StfbyvUe9+Jk21\n",
       "tOS44wAkKM64JqFeCbwOpp+MVTefRn+yq+l+Ty3yrl3gLSNf2xJVf4pXajUNb19NaHoHspqKzllz\n",
       "VtosZEfg+0cr/BtyPyiD2BBWV4Rjum6WmVtkRYY0NAceu3FcfE0Ia6IGcw0RMvuZxPbQybcp5m7Y\n",
       "sVo5PfP7z7sZ9CgZWFz/VD6glg68WL3ol/CKZ+tS4wqJh+Btm13YkrGNurUIv8S5cVxFpuwyFqfO\n",
       "Up0YbrFxk7g92/VFUHZcvmXQfHVPo7DRAWisfHMBCghs5DxuPogOdW0Djxmfoti1Z1YofvGnRY4z\n",
       "ptDI2x6Xcum8iywNER28KGaLF9UPNCCrwQxt0UwZAAAATkGe3kUVLDP/AE+psF8YDynPswCVvlwA\n",
       "fzgmGE5zJmU1VyKy4cYT1Tkyuoq2CNP0ZibBCVROg5uJVxaf0HMmjFVOE9YGHXW95ak+yUiYEAAA\n",
       "AEwBnv10Qr8ABHe8y/ONK6QATt5CHxI26mcglbBhSW1cHet1FJeo2OObtxIWw38/9+t/7D5KabhD\n",
       "9osFckFF83RyXcXPAsO0t1gECDLaAAAATgGe/2pCvwAJLr+IEpdnMbeACZwto+RmP3ubfNvbUfYC\n",
       "CGciKEu9Vf2B5YTbGPWfD41JE65SQH0eok1BppZEVI5ABwuYvkFVqJOkecIj4QAAAhNBmuRJqEFs\n",
       "mUwId//+qZYADQbP+G7cBOgAyCxGGG6VBmgWepOEnwYT1LHGncBNl8LBbC5A1R0hgPsnMszqmar2\n",
       "YPH/Rv1Jd54AZRtLwA/Hmfq1dP9TMA3eUKANIzgSalP6/0yjBlwH9FYUcfwPRk+OiV7mz9OJUvzC\n",
       "fmhb3QaJitlAUAWfB1Ev6EdxlL6DTLoS9XXBJIxA+znp/1ObqwJZlLdcIEzWr5WlMOeBifmG6M69\n",
       "LX6uabpi83ATWaz6jZIJPfnm/1aja2zivlOxsybbYewvS3ulHVSqI1H2awckCIjg23J+5eXMHat9\n",
       "GykuX3GqyVZpU3ej5xuPbTY8LJpWQGejA1euied0wh23eVlSxNA/oecwUAtut2eMB/k032pDVBNt\n",
       "ntRBXSuPKtmsnTcchc6p1y+brY3LQDMs7jutN5LwTEtUymeXwmOouUtd0vLkRnaUGBMxhU2YIrAX\n",
       "HiEcMntlWcm2mJy4XOlsyN8JB0l8pK79cwgzXRFoj2+/e2n5L3fQvqEmHL782w/uiupG7oclU3fv\n",
       "UbleD6hedlMN2ahzln31uibxNtYGExOBrH8U+68n+i2fpAwCsviIb1rBlLajgN3FaLxE/P8QBfkv\n",
       "+jMnpjXH79pjuqMRlxHqImZNTG7o1HFxkHiGPGN/eYdnyGNMwYGn8Ijt4XnJedhU/uoeBcyTPAVY\n",
       "9PgMhqWSUgdA0EAAAABZQZ8CRRUsM/8AT6mwXxgXg0BXG9vSeeSKAKDo1z/N4APrugzwmBpiTUXz\n",
       "+B852mXzmRYrIE2KXQYE8s/rbR++kRHAEHLYKdI/0XbvOOc41Tt6Ox9ID4yXlTEAAABWAZ8hdEK/\n",
       "ABNfIKO9MLvwLuHnePP+AF0F0ZNGnKALwHgx/y+HwHfljihSuQSIcII2jkM2q3pTs3moAOJnoEZg\n",
       "limf55x8U/Ty3RqIshiQod/RKw7eREwAAABlAZ8jakK/ABUK8ioxNEAHG3jIh/wLFZO+y0G+3fK4\n",
       "FEuGW2m9AiOAyuzUN+tE4353plf0tLSr2anM7iHCXXLnTUEkU0VuJFyVyQXbe9Iw3XYACpm1vFyw\n",
       "EZSw1jNqQNO52yfVr0kAAAFsQZsoSahBbJlMCHf//qmWAA3kmCQAto7Y2WSmxb6VMzXbupZIgpz7\n",
       "s4msTGm/eNYeRIvqFOLYMb54y2OyuHPXKTttNZua3pSCV9++xVsiv/TxJr6k6v4JbO/tMZ9aygVV\n",
       "+UFjg+iuZzbov8MX+WVRaKGS+W762Zy8z9CDahGoCiaiklmvn28rOoLMufTl5yC/O3JduTNNNvOV\n",
       "BgiurRd48yUy/bFtXAdkq6mrbfNz3PH8ze5hGrpgqAe4S9gE2oHJ7acgexF+6OVZ/Kf+I+7krNvJ\n",
       "SJjgWqDaHqMNqFhybZ4IhL7Lein0BM3+gvjlFPjes/Az+9Er+aQT9E+GluvwNpAJKL7xLDP/VTiN\n",
       "Tt1tSgMptw3NJ3yKYInIpdGfpXJWG6Q/OySbt+390MysqCYC60ASUa3htdf3NWRqMGuYUJnnnK3R\n",
       "rXGtAKsLcMAXNUlYaKJNGi2nKacKLKyOebZFO0SMAZqoOuAg1rTLgQAAAGZBn0ZFFSwz/wBPqbBf\n",
       "GBid6kD4KwboAFxjZwQYH88dSG7LP8++cb2v4lx/BLjBsHFhFur9N7w8yl5N2tKXEei2Z/5qVpBe\n",
       "JUqkt/ENZizf47bg/w1WsXFiUL8xiNbbipaFTi5aYh8AAABcAZ9ldEK/ABYsWxXBmowLoAWSKcD7\n",
       "b2mLNk1F+2Rq3TLox5/B1HOVoE3isY/9ism+Y+z4mTkb/XF+97F3JtudphNYjdEV5xv4CsqkA7ZU\n",
       "XT8mF4g26AxVg/24NmEAAAAnAZ9nakK/ABa688v+4pYAEqDR+J/gSSzVHwvq4Ona2nUuzHtM9kV8\n",
       "AAABHEGbbEmoQWyZTAhv//6nhAAbm02rEQCkIDOV87Vq9/5KGnTyb0msjGFKWDzoL70gwfNnI/Fz\n",
       "qU3X9nYihe+hnBzHNUD/LUU73V4VYjlcuYMXzKzS3rr3smAGuldS/TYh4nXdX5TwnRwXHLzeviGY\n",
       "R0Wii7wCgBOvdcQqEMlr3xqnlRyp05RVvINY7cZERkFbhDoq8iZ0aaKQJ1EwOzj0+uPTojO4RXaA\n",
       "e9f31WuB6kMr2QSPob/jvlhzEY3C2s8cFksht869DSGmIwMIkpdSMJ/G6iG4JbLKy/8Ds9xiwutO\n",
       "3MwYZX1itvuV6Fu2GyLiJxVuBGQMoclKS7qklhTTHjoofJjaP/JyHEDTq3j2KOA7+TdapNis8Huz\n",
       "H8xYAAAAN0GfikUVLDP/AE+psF8YGJXwE5bwUo4mAOADmil+c2bkFlPw1WmXWKvKuUc+Xo6waGH4\n",
       "ZsIsJJ0AAAAlAZ+pdEK/ABa0tjVZ8vcnpYnIoANu68FFanCTvyY+bCL+CloCLgAAACwBn6tqQr8A\n",
       "Czay1zQ822jsAE3GS/TpQi4YAAsm7KNKatGd4cRS5v4SR2X5SQAAAF1Bm61JqEFsmUwId//+qZYA\n",
       "BtEovuH6tAJL1K5S3gPYUOvnOec6BnBJw4+ePvk880J2hYJKNunw1RKLVd7yo8fLkL9SmN72QDdT\n",
       "wr3L497awi6+Cm3qtO9vY13CVsEAAAAnQZvOSeEKUmUwId/+qZYAA2UAr1XkkABmEk8D1WkC9t4f\n",
       "vZcIIaKnAAAAzEGb8knhDomUwId//qmWAANkn3asR4dp+AVhFIWtfO8OOgH28Y+mrcV4VMaTI2Q4\n",
       "0jt+58cdbXHGerMK4tnSFCWQb4v+2XvxN1B9iCPl7m+JWKbc/31enGdIcCKld8eWgNvk8Wu3zQuH\n",
       "qQqEB/+7BDCeyU+z7BnlPDeUSbjRAeOrliuYxHCkhLclUsbF8PIp90iwe85G5/S3vnPc6VIMVtu3\n",
       "nq0U5HXuTVG0uRqN1BE0NuocYFSPXNDVXGYoO0q9SVW98rWsA81OeLx6QQAAADNBnhBFETwz/wBP\n",
       "pXFHo5LK+7/2a38gAh+lxQM/gMMK6u22TMsVa9RM9CKNMb7qoafa0TgAAAAlAZ4vdEK/AAWGBQFI\n",
       "uRgBLbyThB15wsvO4+oXgQ6fAYm4bVgR8AAAACgBnjFqQr8ABYmieDwbSFiNFgEAJbeIpDoNWLEO\n",
       "5zC+rIWcS2k2qbaBAAAATUGaM0moQWiZTAh3//6plgABsmuy8sD1F73dAkALZdVI2Pp+mDkTf5/L\n",
       "YIf6i+PNagNqNwguqMZFnk4AcowDbUuCVONlHP6jkdGeEyVMAAAAaUGaVEnhClJlMCH//qmWAAG9\n",
       "75FQBQbsB24I20a9q7c5vwRKF/MJiaE+BEZZdORt1w4TVAjlWblpzKsUIAoFsn737xXoXWNd95Z7\n",
       "x6tnIWqVx/+RpSG/wriA6VHD0Qh7oAaO83wbRMBnYAAAAOtBmnhJ4Q6JlMCH//6plgABvUSACcSA\n",
       "JpaeVSdy4MrrPAXdk6d5YH5t6MFJcv9yenjqNjGx4/+tEgDoUZk3pP//oGvlLcoDTjoyy2J41Ej8\n",
       "wLpKWCmK0MjWpSVB5184emcTH/CgymYdqYIokc8lFvXiDT1dcufP2GEs1Kfb66u09+eEVlewb1yo\n",
       "+PzMsVAhszr/sVF/wtDiWu6rqmWmY2yNMwyIpWDKlV/3cEPZquDMnBv04VKrJyAB+1EuDZ7cfPjP\n",
       "AihcEUNPwHaGPZTjwTWB6HppqT8B97RCcJjt6cqr++Gv4PG+0DUB8dapAAAAKkGelkURPDP/AE+l\n",
       "cUejksr7v/HVcJuhhUVQv34AA7Q+p1bxN5lHY8VZ4AAAACwBnrV0Qr8AAtaWxqtBxJLAoATLqjo5\n",
       "nsn7ofTPAEsk+zV+ruESYDL30egWwQAAADIBnrdqQr8AAWtyPoAPxXJOQJD5XFmCUpgN0Vg1kRXf\n",
       "C5Ak9/ZUjslYoBalMr9vC5+xFwAAAU9BmrxJqEFomUwIf//+qZYAANolHAZjcwC1IiV3d/kdP4kc\n",
       "EyAWRE6GrCyq6INWE3JUBl5YMSX7QvSTUArz+EZoagp5uDtGEV0CrQWlDeHs+0M3Kk594hUv7hIL\n",
       "0Q8IUDRNRGsx/3ccn7+/+mKuIsDusQZNhhDkIdxF7Pt0n32OuLOANIQ8g0JPSzG5ZQr5/Xy+dzf2\n",
       "ollpvqCvg1fkH6qikFgEgnGDq4MqRdpj5yjlWl0r+yBKeETDA1HGsAd54r4ieFSM/fH/kImm4/BZ\n",
       "LKu/fGd6Aq/P4kzHClbZMrKXKMTLJxJhOrNN1Z6WIYXZw2nSaV5fRTwBVwOTpLuPyG7meqEdEwua\n",
       "2FlW0WirozwVtsxJuMu87+4zQYyvTENIOX/GLpschzbqB+jIEp9ILThXgBW0chFQ6S3vgCEwE+Rk\n",
       "PlOt29S0Sp7pWyb1Y4k1EwAAAGRBntpFESwz/wBPqbBfGBAspjTTGdi1YltfvKLk+xM7E1gAhFu0\n",
       "JRv9E9bQq3L4Hkb20GqM4MZsCU7L35oP2T89pQUIuCNVhf1Z1tyNkoYSR10uFjcLfsh4N/w2AEza\n",
       "hbGGLPvxAAAATQGe+XRCvwABYku05QuIW6DwHYgAuMdui1qRNK/ifbv8ELfLqGjGvbY8ry1x8FMp\n",
       "X86tYgOkQjhPo4W7b8rx2Y9D7ZhISLmZfcTzX1dAAAAAXwGe+2pCvwABWeSnzWG0eoeAA/Fa78V/\n",
       "PWBFRDTQ+qLj//igwvwAyuIVkeEUPIjenygNoTASpZqCI8/Ydp86YSwxwVQvkXPr34Ia94IDScld\n",
       "ygn6lzhrvnUmUShaypOfAAACD0Ga4EmoQWyZTAh///6plgABbexKUS/yJXTgNPH5ofPQ/V5uCsc/\n",
       "RiIkdFK56Y22aSGpYcKd3LSDfUnqk7Hszmfyn0CwG0MaO5VUiMtDDfAMAmHiIaZN+KXOzLtmJxyK\n",
       "y6HPawI2yKOAn4nKkxIM99Q+J38OrVyWa2JPO6eX/HGyAnProa3veRccSwlBsrT0D2PrZnLd+WZx\n",
       "sFeiDyGt7ZS+/bwOALNOU0jNfdq6FdB2q8xIyTSUSoP3A/gkyTfa7oxFvTqBhZEADXHSbgQ0u3GM\n",
       "ANVEaR8xajQwJyk0nnuW+WGsX5hD6R0/zSwa7kwuytRln07C/s4pGCqk5iCui64aO6njTSl+nnCr\n",
       "bJWDpoeCA3zAcRHJYH0YnB6nHLUXW+inz0skMmsPGUROXhgKLyfKrdZCsiaTliw5cwWu8dEfD3ab\n",
       "aE1fs7FpkQmSsc0qLUagHScMFV/UR/5Pw+pq1SRsZzpx+esIOMHc1YBE0SyyMc53nqbJcH04yAzU\n",
       "xQi14PAnC5oMTmyyBKL0uqcxcYmzD2L1d9x/jMMrte3lfCwbYAmZSe+AkePTnvZ2AMrnxLKGSKnk\n",
       "J57VEj6KX9gI2Ct0QEA5KGcZbKDVCGXZzSa/qRD2qveVqGqa719N9zLvPLZb+eOY8orrgVUaX1rB\n",
       "yLqfsgjXImxMlb9xNoJCN+iHtAXEa9jgesWgabQVArrlAAAAcUGfHkUVLDP/AE+psF8YECymNNn/\n",
       "Xl4SrLJ5rfMH+ZRuIAWLvst9R3gu6K4JtYgAJJ43I+AZNQkjPWP1lQ23+nrSp9W2MRbtO97So29x\n",
       "N1Ff9iHWaTCKfhU6lTlPzQPAX2On7B4hiWVf6yh4QgEPRrhcAAAAQAGfPXRCvwABTLMaDAmSb5uQ\n",
       "IoAFcabuTpIU/ptcxOCzgnxWpQVtiYgTYp7j7+dFPw3J89kbjCfsfLLmgLFx+0AAAABeAZ8/akK/\n",
       "AAJDaLG8z+KHfoAcdgfjx/p6GuzKjBccaWqLtPd/tXphlyndmdQqln55YbJHHary8l34gKFnwjur\n",
       "rajKKNssXSEWvtcTUIfPRWxstLrVVua0oCjWtLK7aQAAAUZBmyRJqEFsmUwIf//+qZYAArfTbQAs\n",
       "FqpjuLM9KnB2m0S5pmU3bmd4MKOjHsRVHMREKWU0KBxpVS3iIrIVQ4aj6mby+SCK1rFgGv59Ltpj\n",
       "Z092QXFLxhi9itNEUZq7oy1zNHmHnZrQGYqOffbFICYmGnZQR+kMQ5vcD822wrBb+qG19vHc7x1f\n",
       "D4ywCL+yPsyk9WplNjTV0rjJwOHK5JVHLvlYIyPivFI28TTpXpUAvGjC5B9Fy2OTGzotSK071/Xw\n",
       "5glOZ7nGg/UkG9ls5rGdndBybgLE76fZZBO7YeO1AelPKALRqT6/Q/+Rqz8SmP3tJ0kvwhdexVpG\n",
       "To9hKr3eciMwVKj62iCNvaHmGTlXcEnDcDE8y/e59o4bpgp3evEnpLZ60wkE3L2XiGl8+5YAV2PT\n",
       "A19xzw+KSesU2OwifXBpo6rqQAAAAEBBn0JFFSwz/wBPqbBfGBAspjTpgOTgAqOjZ79k+EJwJSKO\n",
       "Z0lOYe7td3eM5meehqNe/mtvxrmRJ77/eJdKlAwJAAAAVwGfYXRCvwAEV8UhGsI+anMQAXUdyPn9\n",
       "ErrYeA2kV3FLTedIe5Id5uUApKv7UXzvkD2EyMC9ceyAgdY4FlDUPll2Lj0xzmgcaWpPNPGMfJsk\n",
       "X2fI5yoxYAAAACgBn2NqQr8ABFZkxACEMMBEM6OC9euZ0wH7tWoGqtwyFBV9maEf+VnTAAABOUGb\n",
       "aEmoQWyZTAh///6plgACuC5VIA5aIld9GejFFETFG/j0monZlovBiS1P5i5EvidN1xfNisoCoRi2\n",
       "cSjjlTbWEtA/EeKFPe10a1oEhdrKPlCMAgpJOoBOCM+RXIPaSgHCfqRdKZM6dXKbdV/pYauRw/o1\n",
       "xzjUhEqLNPUeEgQayhTGOWgsfK1Iv3lwGrY7k+A20QinB2Xqa1aFd+gHq5KQH2dvRIMLDtef9blN\n",
       "qaDn+Ri9aEqo5wvzDV/9AZszQAT7+Oz4YFQqfVNhK0RhHNZgYvWUj1zkuiVP4HYMQaZ4ApEQ+mRB\n",
       "5SnyIA0LiFkqVDOU8LIRx38eJHL6EmBn3WGUJsmbUmv2EiIsW/EUyRMzvjJjv2SOJJWwrgfqDIf4\n",
       "8QpZH1wiQO3Uk4wTNjYCCHii2ZONpkoMwUsAAABiQZ+GRRUsM/8AT6mwXxgQLKY06YuGI6JNABtJ\n",
       "OAM0ySohdN//5RlcDHm3yYLXTQT6jWeSozjL53DxF9iSkW9uSDUotuoqtg6hmu+oq+TnichQTWf2\n",
       "ZjwohnVC7Br/BO6VhNkAAAAyAZ+ldEK/AARWzn1zWItEIuOFnACZazx6Nsyo+gZ8kHhzS3O6ktlB\n",
       "4oJTBob2BsK0VlEAAABUAZ+nakK/AAI8HO5gBNXnCWnqneLwGp25MQ/U9P2Wl9De/wQ4gaZ1/lTA\n",
       "bgUUGEzOH+DRUiu6Kgu76wY852KMa/7HyIuHSFbrytYWJCd4BqcjjpgtAAAB4EGbrEmoQWyZTAh/\n",
       "//6plgABZOwJgC+VzifTi7Cue5RXBDUoagolljrx6M5n6gg4YCeJGTmfsjcqCvYc6nRT+fc/yECP\n",
       "IwdEZmx6xgYZaJencz96i60sW9SXaycBR8mq+8QoCNxGcwB/WYwKf2yExFe7RCGW+EgngSzC0YGQ\n",
       "D369gNyPRLAt4pal7DaONWtqPFbaS98fyh7jM//hP4ren1mO8zPS/GeFwEEwzAsfAcZlx2XH2OZ6\n",
       "GZTztlgkTT0/nOcxtY+HS/a8js84TBUzTjv8jABW6ZPa09i+l+6xQ0JVolXJzazCkgIQy0kxIHBK\n",
       "3ao9MUgK1XRR4fi/zGdq4GEsGwupTZCRyRoJBwp8fu4wM2Fc9Y0jjDtDrZe/RGthkowac9AczoQY\n",
       "4s3cab9+pZ8KJqTTimc88/Lw+wGiyWJKLdYJSJv54w3VreoV27MrmxdqXtEbsdqs2wgwl9dq6rJ1\n",
       "jHSxAsAIHqGCOoUCTRIZGKecfNoikx0KJ/IuhpvKTXJBp2oXkua/sNxBO/CDc5pLyCVr5vBRFLx8\n",
       "mQOMDqLK2yuwr8Ii0mAz4djvL7l+bbNFPBCiC2Ff6Mxj19w71tSwpsU0xvFhlVYw4Qj8lY7M1A4R\n",
       "75D9Fyv65xtMlBlGpgAAAGhBn8pFFSwz/wBPqbBfGBAspjTYfL7OGOD/spUR7zuF9cYAP568DBtJ\n",
       "0dyECGQkevCTJx1WFsikjxrjVUijuD1LQWcyP6yFqBu4VnwCcYU71lHI6iDBP0B66OYLxcwiuGP0\n",
       "yHgU+gDLgQAAAFABn+l0Qr8AASU9fdnAAlSYiZWyaecFwSDlwubyjrKkQKpwZCkqj7BE4h9MxZpi\n",
       "gjSfttPNEkmjwhWlXsAakZ9nhobeUykuRkTN9C2ayGvL6gAAAFkBn+tqQr8AAJLJDG86KvRoqLAA\n",
       "tuXqKhPCLvTuGh6vYfcrzzwdIMBf8Ao6FrerC+3CrZjciNYbzMvpuvYOXVKBUc7V8V39gTnCVLHN\n",
       "UMzMV4HOWUtIasWtzAAAAQxBm/BJqEFsmUwId//+qZYAAFt5utgEk4hfC2efRwwB7AuelL9/LM1N\n",
       "C1ry+DP8uV57rvyyRtPX/RHpmELwiS5DsxjQtMWH7OIMcDA1EroW76y5DZR4a1WzjX3A0JINiH07\n",
       "E8PQN45cycAju6QFPcrqMN6JGu2/H3vY953O19hLVKVtMPS/QiJAiYUcBO8+0n7z8RRygyH8Ktfb\n",
       "FYHnbMthun3lVOsqMO8uRnlrp8pqfBntWtwqLtKO+WPK6qTXmMDzI+JLvoq6WA3TxHOXE44g3xgL\n",
       "K75VwwHMBkBLRvwuux1Djrbdj8++XhhMwnOzwgTp5gn+m2MUH63f4dGRny2InJScSmQmp06hQKUx\n",
       "AAAAZEGeDkUVLDP/AE+psF8YECymNNh5CDrfIWqQyPeCW39o3vSncMUcYhgAdNqWpA3Z2eeBQRr4\n",
       "zaIAUOrha8h+5fFTJXlUd21h1ezQqpfhyZqvZAXGj8tnKSAUvPAa8kArfYdbDukAAABVAZ4tdEK/\n",
       "AABLXRJEWWQbpL8hq3gAuElC/ty974lT/zr/mlpRe9WFcVZH97VKomb2DYTHdY1YRQWBr6LYfryZ\n",
       "7hhS055qVy4u/qqMRmytoHww6MJXeQAAADEBni9qQr8AACa6/a8gGi+TeACaepy6YNDEzV4/41JB\n",
       "YGYgkcQLIcVbc3r5HDACuYSrAAAAzEGaNEmoQWyZTAh3//6plgAABeN90JbeN+NGAEw7SuQH83GR\n",
       "bXSBYMVJUrwNnWCKOHWjWBnOYEv8b/Fx/l10KevAnqHyIVVW2O3rmdjhij+kGCAkBFJJ3h3wnbwT\n",
       "XJinNIddK44Hp9r2617sIG2abpfa2ATtWwJo/8MjX9bQoRtGUD4X8+SyiIc/cRrF+MFVPgV+CXFg\n",
       "wBTETavsX7eovXLIpLi9BU7RB2EuOUB8skO9VpRTV9skk3K1fEjdHryZA31Mp5MwGcEy7OaeYAAA\n",
       "AG9BnlJFFSwz/wBPqbBfGBAspjTYeQg63yFqei3Q5gjp9NPujXy0WdfmvAA2Vvly4qwIIdzbHINk\n",
       "C7lh4ZsPE++rOnquf9j7XgYTO6VU/VdzXxLbKRQaIiQ4lLIhtLIL95DjgaCM0G3ETA5nfMBu0MEA\n",
       "AAA2AZ5xdEK/AAAmrojQ3Kwngx2AEr/DCnqVBHfVT5oU86txtrzld4rKadhsN8OmN1y+yUh93ocg\n",
       "AAAAOAGec2pCvwAAJrsBUKXgEFAr4AJ285hlBF4ltd408k73P+z057mu48nWgk9zQ3D6tp8fyAdA\n",
       "IPlAAAABHkGaeEmoQWyZTAhv//6nhAAAFiBDAhqDK8LI98wxx9Tbq+HjlO8pI1C3+66/ezSc7Lf3\n",
       "CS26KqtTOM1J3aEOh3u6Uf/0OqQEDfZW/0/heqC4xl1SQdl2o6MZgaTneSbYjCRYF5pMvAbwPF7K\n",
       "E92ukcrB5sv6HwAIu77VMtOZMcKIsoxv0gmSotbmbUn8qgC+SFmkRog29tJrufDnPt/zsdQNSMdW\n",
       "YweQWUpkZR1+wM5LKCPO6WMD4GG+ovfimWDGEZLqpC8dv+PvuTF2CZ9joslUnqtUj/qLzTLxnyw8\n",
       "ye7B5r0c5DVe6v8ulEAidNv0csx6AIdEI6NIF2/u6Qsn1Y5bbs3XdSP86zhoZE+YNXZwMFsb53jx\n",
       "8STLmLLaN4EAAABqQZ6WRRUsM/8AT6mwXxgQLKY02HkIOt8hanot0OXpHz/yClJFgAXQUv0QpBZ0\n",
       "tfvVoSR+ZpZTSTuC9BdspPRto7R38AEb/vNnwE9eI6mmcd2Wgym5vv/PpjiInwXQG25F6VbE1Dih\n",
       "L6EwewAAACUBnrV0Qr8AACauiMZsDIGePVFdCUr0ne3wAJmyeSZB6O0GIDGBAAAALAGet2pCvwAA\n",
       "JrsBNS13S6iBp2cAJpMVJtj6UAHBUTEKzJPig+6Xe3Ja+xzdAAAAVUGauUmoQWyZTAhv//6nhAAA\n",
       "FY2lqAodyXdX0/T1d7bSZjIELDa7VZWZu+ZxJ+jJmd3Oebtf17BLUP/uetaGWM7Q+PSRTea3bbuu\n",
       "J0wWmKafk5pmm+AAAABcQZraSeEKUmUwIb/+p4QAABUFGX7BHqPALTUooefsnWW1v92cqw6LO7RZ\n",
       "9hN9cOGYqH2ga4ypWd45SMWlVW4rP6Yobi5qx8OZapIQg0qPSznmew6bHFqBZdFxjB0AAABTQZr7\n",
       "SeEOiZTAh3/+qZYAAAqbWHcSgFIQajt5QC2nVoFL5eqVjwXVOHxYYvFCs2obWswaxAX36Sbue+0/\n",
       "reWxI986k7K/oMKWi7BcnW+er3ggsbEAAABmQZscSeEPJlMCHf/+qZYAAAVLpNUATFKVIqhSvsoH\n",
       "mczKbj/r9fCUioKwAr2L96wpFPyQqJWTKRvo1z0k1XTSRmm+C+/4dBLMOMR6lBdWT0CQMzSWBDn0\n",
       "C+5+xh9wQX+ywxy+keL9AAAAfEGbPUnhDyZTAh///qmWAAAFLEMYUqIgBpFU7rbAcYQgAs11wP2H\n",
       "Ks31ESZDIhtxjTmG9FELb8NVdpAZdKFLeMxCu5ycZCTrG0XWf7eTnoIXBaTdpKjr51JN5MwWk1oS\n",
       "U1VfDPlS1zyDT79BBrfLVW7P8XlJeG0FSTGzXOEAAADLQZtBSeEPJlMCH//+qZYAAAnPKu45aw7k\n",
       "H6ACjiHr4RdXrM6rBYzRkvIyDvisEEdd+AP54wiJKW2C5oPdQfN+Cl0kEUcqTifBqejOhSeC2avb\n",
       "eoDH2iG+LRdl3c4tPRhVIokAHtlSY5hIngwtAyifNP2QRo67ibrvesvmVGNKows9OOVyy+h7b+HH\n",
       "u2C8Wh5Nv//1dzmO8F1OQ8HP3ejlbOpHyeOp5kryA5wXGqUyC8Y0fjGcoVmOK1izp5vR+DvnO7X3\n",
       "1+FsGMsJP9AAAAA1QZ9/RRE8M/8ARqTj0WdD3qALAM5K0ydSe/J61q5sc2nrcP5QAcxoRl2icnsS\n",
       "ThkozS2BQ/AAAAAtAZ+edEK/AAAQV0J/N1+RMa8sOkHmPCf2cAJnfzAYnWRAUv8Gawrv/4YbWjtZ\n",
       "AAAALwGfgGpCvwAAEF2K+UgtLXQMN4AgBMuqPYlzTsUd8qOs0jU2nyL4h7MxXCKJX/+gAAABK0Gb\n",
       "hUmoQWiZTAh///6plgAAULhb9O76ooAF04WLBu8+DZ0aJpMAdJoBt0HCPp4Ux697h//9gLtCZzSk\n",
       "DXpGWy+VKAzkC4PopE0bN4x734gJd9iF1xfSA7Byet6sMY7ncItElJNCynpPt8riafi/jpFtz7RX\n",
       "n6MopmCQvDrUPF8AxDDApiBI2K0F0vI2XdQIpMslpBqBeNtu+G3t9HI3y9vbyoc+dz0rA4cD64uc\n",
       "WoAwYdFIz7fquFDsEcg4xMvYYhV1TTY3t+qIMFVjIB+dJCtTE97J1lq8Nlw4f/eNbbKmR6Ss8gZ7\n",
       "+wBYgPakxMcM/mmOzl2sI+T9PmNQ06tbSCgfPhyEd3Gq9mph3UI2YMcO/7gQ31FOFKip8IuJeT9v\n",
       "RvyjCeLYSkrKCUDtAAAAW0Gfo0URLDP/AEd13jfHaPXvc9leHvWJUTTSZr3z1/24gAcP8RTomgU7\n",
       "Hgd0STfTGX71eyK6F8QCHL+FiV3pAOX7QRpt2HjLAMREES1G5xUoYDO6PPTAE0OV8NAAAABWAZ/C\n",
       "dEK/AAA+MQJOK1+LfwdWAFrnS8yWBrWqrBmyRd38eUpnm0qadLF/XZXuBV21TBPY+xb517c+0392\n",
       "jis3/jH2+VWf2R2zXIU+hjMLpzq9QAVPeDEAAABmAZ/EakK/AAB/GUBtYZl1EXYAS1aXYyF9yNrE\n",
       "n9Mcmij5WtDCQjmsW13inlV4pm0VVDhvIGx8YsUg05dxC1mgQ4XV9Dz/Ih38l6WymIb9hSqsj2Pu\n",
       "URqvTjIC0ZQJuupWsVwYHtLtAAABnEGbyUmoQWyZTAh///6plgABVNZhcwTk1Zb2ACVa9fGR6cE0\n",
       "dTptkwW14UrGblncsY638cyvZTjr21WmD5AB1jry9jp2101l/DzJMAhh2dYnzchcz+MqU23buTPZ\n",
       "miCF8UIunbFCdgE6ErdocJfDiJ+72jjOpXTQ709TYFxF3Ydusi9G7lH98zYEFg+5DB+3wl3+li2j\n",
       "Gxtu+QGrwEC/RFD9KWuGanONXyrGWIES1+2NI2J2fn+W0vuLSryR/xdI35QHajnH77YaODs3gMtb\n",
       "QUK/6CSyJtuHOl8s+LKZJRgcC34Y0lWW6r6pnDBUWtdS76LeoKPz7CE91VeAcqBNSXFDHlaTtwYO\n",
       "Nz0AJcepC6fQB9OY40K1JeGeRuhfcOs2bwRMUzUoTTGOj7enfOUvkHqBQbmlTgkLsUbRIo9rZpVL\n",
       "fKxCe8XZ+qOZRtfQsQmUABEsFIRBnmliBE9R4Fdk4bZCFRYUGTXBECyr7w2pZBHHq/l5ZpQYAW3t\n",
       "M4Eeu1gwes3DEiXBt+MK8D2lADPS4MZrlCgJZB6TYKh0xfkAAABdQZ/nRRUsM/8AR3XeN8dpFNIm\n",
       "WWJSWX07g6/yalv1nABDfKjV0fcjayhNGE8qavJVz+sipT+V/xYFUmDv9WEcgbb7bIAVOaoZPkDr\n",
       "YiCkoZJvMst266dg+38VNmXhAAAAXgGeBnRCvwABBIzNevaADjZyN1libQedtcyr42ZpVtROaobk\n",
       "09m9NcGfupPY/qnGhR17y/ODqn7rfSzJ7+vOgB/k7YupyqwAj4/QoBvJcfn+2I+xCCHB4qBtFial\n",
       "4UgAAABfAZ4IakK/AAIYvQ7kVAAFblXUxnqRT/kNx2RkS6WU3mKabyzuxj021B0BoGHJ+SZX7iCg\n",
       "C4pvYXglTPPnrVloOJAxQPgWZkZh50Rt0PticFlnEC4iLC3DTX1zIHWP6tAAAABiQZoNSahBbJlM\n",
       "CH///qmWAAK3020AIyuoxhFofXV6w1xUXdUJ76i8HvWyltsw6PRR+TsrXGoXGnM/4LyfYEI0qPqC\n",
       "mXEVfaFDAg/MpWSzPE2heYG6A7iTfrMR0Ca3gUOXOmEAAABvQZ4rRRUsM/8AR3XeN8dpbL9gADsC\n",
       "sZdpWrveD383Aa/sNWtkJVf4pmt1JDTCIkzcvX7adN9sh2HCjYiHLVjvYmOSG+Mm1cy/GZs05p+O\n",
       "3T98b2E74xjaeHXXFkbVPBNUxzUgYqGKmknlc82kefZrAAAASgGeSnRCvwAEV97wAG0rhLK00eU1\n",
       "R+qL8X6DUJVOjpJJjZJlSWe2Gr2RiCHdno95LcVV8J0pkUmXggiZSiJTXVysnmRKakm0veKwAAAA\n",
       "NAGeTGpCvwAET+dgrmIAQpJfPtdNW5zk5n5D4SQQYDUBLXh5m4UEFweGCtZJSCOELyv8rWcAAAFt\n",
       "QZpRSahBbJlMCHf//qmWAAFlCdrWGhAh9MeuYUcnDACGh4+ynNR/6DPNu7uNnj9JiB+iqIyex/JE\n",
       "VP8CgFqR4bpnkVCAhq7fjM/yvDnV/zCE17tp4hcu7nJeO4Bk47xmR+WdA85IDyeaUNZO9ji1vhxh\n",
       "qLOXLaxtamZrxRjDiG+peNr2cdsdjqryDcXCOPGyzUn1ozK9Rgl4W4YkGhRkU/hhNPHyZ6Kx86Vh\n",
       "VptPvhAX6UMj1hY6yiU6hvH0M3/IeJWTvarpqD7RsCD1CkTqxbFMyN6R0ksTH5ddvcSkiQsoCCKB\n",
       "mYE1hbeumkZoHoXutt6kX0OCEt0S8MbZM1yOa0hyxdi/iBS1eNe/akiFyZPyxQP1j7TAKh9njxgM\n",
       "N0SpKoSlBBhT3jL31y3Y44Buql+EYkqqPGtDDYpz6iSLPmzi+JXlPqkCMad942GouQTNYJ+JDloz\n",
       "a/c9yhcnrF4diCuQw2/hKRp7lQXqZuEAAABYQZ5vRRUsM/8AR3XeN8dpFIQZEgAdZ1QBAP4cyllm\n",
       "nNib3LelfXRMYhraK+yOJ0FHLLfV4QaBQH9ZzLDXnYRskVmHtQkfRwUGptTzTA2Uxzuk1Yqz9l7C\n",
       "+QAAAFsBno50Qr8AAhc6uTxe+jQAafzRL9SqA2nuP9teAq3MGiRcRKIe7ptTXVHXigu7oCdtMN03\n",
       "q+Ixu/XBcZKKlWsgWn4ZL0HgP0MipUovR6CnoCKBVWZ3ua+hxRTAAAAASQGekGpCvwACGyFS7AAf\n",
       "zMWmOdw9qTKGgp8BAqmA5Uw0mg0aQrp/TpzM80762dsdeS4M5+5e2UVHccIxNulEZbe0sydbu8d0\n",
       "f3AAAAGDQZqVSahBbJlMCHf//qmWAACgdJqgBEIXql0261YFDyoyj8vYeqQ1rOUzFsW3mjpZcI9i\n",
       "eImYLNldSGcAncsJCG0Vrjy9S3pptSFyLJCVjUwq68frzW3uB4vnuK1b9k/3acCPNX2w0OyDvSZU\n",
       "aZN8UHL4LucXXJH0w2+d65vh4N0OxI8Zvcsv3sBK9QLzULE/zawEBwi0u86VEezYqoPwrml9e1Tj\n",
       "keVe/+tjG1m0jAAZkFm1eXxX6ndjsLSb7gy40ycjEB/Vh8fbh7pIWwGt+rY2m9GBIapBnKlwcnoQ\n",
       "sjpmRUNrmcTMlt+9/QjSruyXGDSlTZXhceeCJu89YZ7A7Uf8gdm9QxvJfkVJzSRIaSKjEucMTkfu\n",
       "/dYDGYT08gEeBm8tndN8dBbXbd3/5FNF84lEaioUEKxe2khFYaQuJkbtXqAt9ZHaKpOJUzseh/sD\n",
       "ldW3n0la9KRQDun0IRurWkrYL7+/opyIXLL+qimqr6e9VXNBItA3azc3fdJdExM+LJ/BAAAAc0Ge\n",
       "s0UVLDP/AEd13jfHaQ5uoyUPFPFLclgAHFcdhw6lq1cYhJPLicoDPmeH5R04YxRK4y2M0KncJFCB\n",
       "7PMqqMxjZhiT02ncJxQ0nd2jJKiv7NekjoVEItu9I/ixmjnzz54U9Z0iZ6VrXdf0Z3GwzTlTTLgA\n",
       "AABqAZ7SdEK/AAHw4ExfWcR4AJx1R0pJGAkpi8M3lp5wOfv0dNghT3QpzUuP6e9M0yfOGYr0agWK\n",
       "4L4WBB//Ly2PIyjUslxuX9Ir+hrflZSqO4elMuaWMX5xythndtFTosX9IXIrgDQXVJcAQAAAAFYB\n",
       "ntRqQr8AAfFlSZ/eUty7nyxsOiNpgA0VQpFIH6Yuj7Jk+w0Mx5+/Qdv8mBAeNfSxAQSO1n32jQHk\n",
       "k77NFq1YvRET4kTbiITEuC1I8jB54QiPWOF/3QAAANlBmtlJqEFsmUwIb//+p4QAAQbkHbpZyJHw\n",
       "Ac2YkZga//9oF99OfBeoqjJ/USBBmEK98MSnimjhCIjjSgHT6BlAsojLRxTYCWGvXVUe3oDYoTH/\n",
       "wJlVKyFbtTqKfnwxR7tAwg1bWbBNy8S5+pMPvHu8t3HxK+aCHZ+ZZ3FmGbVvKlhezPwQXo9pLCxV\n",
       "jrhjM1Iq0QpibkTcBIQ/ybfv4JeY711NaGdbA6AymQv1cYDWbB1OwVVAjJ9PSMsBoyOmFQ4olgrY\n",
       "fkwf9/bHsA17lxTp0i7IviZ4EuVAAAAAXEGe90UVLDP/AEd13jfHaQ5uozEEgfOoj4UCAD+eutpj\n",
       "FHxEeQpDlaTigk0fBC1RHmtQDoACBc6df2YvTC74751IEIWshRjR1zcF91QXkp+um0RMIsIEuVm1\n",
       "8XihAAAAVwGfFnRCvwAB8OBINFEU4AX+z1SDnobctCmcoKIExBsk56UVuucCKUvY63+Rq3UPRcfO\n",
       "50gPEOmrFVp83KSRsVgtxBlRht5B6XVmaVRIwfvamUMEJw7UgQAAABkBnxhqQr8AAfFlSDiNrlGC\n",
       "mSIZv5cLqcboAAAAQEGbGkmoQWyZTAhv//6nhAABBlBVo+W4AP0QJRLxIeVNuQp5Wa4GvP8wK0nZ\n",
       "/ftSmXcR5MewXyKooiCtIS2GPJ0AAABLQZs7SeEKUmUwIb/+p4QAAgo5M84xuJQIbrkTeAD6b5ZO\n",
       "xSSNJovhAvdGYdWKDClv099/Gd+I2m+VItkYode46PeKJymk8RsFoNOmAAAAR0GbXEnhDomUwIZ/\n",
       "/p4QAAfryFSoxwAmmX8olBghZI/kfEKyCKhHKhFPVrNvJ8fJUMamRvs8CC4SjaIsvmRpUcJaCvYa\n",
       "2ospAAAALUGbfUnhDyZTAhn//p4QAAfuwVSvQJqzACYyfAzpRFl7leEII/+yGT5UNEWPSQAAADJB\n",
       "m55J4Q8mUwIZ//6eEAAIKHKya3NfJIATObU4nXs1zV+jx7agdGJ7T74Vy/IfZatdWwAAAElBm79J\n",
       "4Q8mUwIV//44QAA/WD/6J8YAbrurdx+wXZL5BlZxzkdAxf/EOYvrk4mna1Jfkm0LrHnp3RmBP99e\n",
       "3Q043Z2ccjrVCWLAAAAKDm1vb3YAAABsbXZoZAAAAAAAAAAAAAAAAAAAA+gAAB9AAAEAAAEAAAAA\n",
       "AAAAAAAAAAABAAAAAAAAAAAAAAAAAAAAAQAAAAAAAAAAAAAAAAAAQAAAAAAAAAAAAAAAAAAAAAAA\n",
       "AAAAAAAAAAAAAAAAAAIAAAk4dHJhawAAAFx0a2hkAAAAAwAAAAAAAAAAAAAAAQAAAAAAAB9AAAAA\n",
       "AAAAAAAAAAAAAAAAAAABAAAAAAAAAAAAAAAAAAAAAQAAAAAAAAAAAAAAAAAAQAAAAAGwAAABIAAA\n",
       "AAAAJGVkdHMAAAAcZWxzdAAAAAAAAAABAAAfQAAABAAAAQAAAAAIsG1kaWEAAAAgbWRoZAAAAAAA\n",
       "AAAAAAAAAAAAKAAAAUAAVcQAAAAAAC1oZGxyAAAAAAAAAAB2aWRlAAAAAAAAAAAAAAAAVmlkZW9I\n",
       "YW5kbGVyAAAACFttaW5mAAAAFHZtaGQAAAABAAAAAAAAAAAAAAAkZGluZgAAABxkcmVmAAAAAAAA\n",
       "AAEAAAAMdXJsIAAAAAEAAAgbc3RibAAAALNzdHNkAAAAAAAAAAEAAACjYXZjMQAAAAAAAAABAAAA\n",
       "AAAAAAAAAAAAAAAAAAGwASAASAAAAEgAAAAAAAAAAQAAAAAAAAAAAAAAAAAAAAAAAAAAAAAAAAAA\n",
       "AAAAAAAAABj//wAAADFhdmNDAWQAFf/hABhnZAAVrNlBsJaEAAADAAQAAAMAoDxYtlgBAAZo6+PL\n",
       "IsAAAAAcdXVpZGtoQPJfJE/FujmlG88DI/MAAAAAAAAAGHN0dHMAAAAAAAAAAQAAAKAAAAIAAAAA\n",
       "FHN0c3MAAAAAAAAAAQAAAAEAAARwY3R0cwAAAAAAAACMAAAAAQAABAAAAAABAAAKAAAAAAEAAAQA\n",
       "AAAAAQAAAAAAAAABAAACAAAAAAEAAAQAAAAAAQAACgAAAAABAAAEAAAAAAEAAAAAAAAAAQAAAgAA\n",
       "AAABAAAKAAAAAAEAAAQAAAAAAQAAAAAAAAABAAACAAAAAAEAAAoAAAAAAQAABAAAAAABAAAAAAAA\n",
       "AAEAAAIAAAAAAQAABAAAAAABAAAKAAAAAAEAAAQAAAAAAQAAAAAAAAABAAACAAAAAAEAAAoAAAAA\n",
       "AQAABAAAAAABAAAAAAAAAAEAAAIAAAAAAQAACgAAAAABAAAEAAAAAAEAAAAAAAAAAQAAAgAAAAAB\n",
       "AAAKAAAAAAEAAAQAAAAAAQAAAAAAAAABAAACAAAAAAEAAAoAAAAAAQAABAAAAAABAAAAAAAAAAEA\n",
       "AAIAAAAACgAABAAAAAABAAAKAAAAAAEAAAQAAAAAAQAAAAAAAAABAAACAAAAAAEAAAoAAAAAAQAA\n",
       "BAAAAAABAAAAAAAAAAEAAAIAAAAAAQAACgAAAAABAAAEAAAAAAEAAAAAAAAAAQAAAgAAAAABAAAK\n",
       "AAAAAAEAAAQAAAAAAQAAAAAAAAABAAACAAAAAAEAAAoAAAAAAQAABAAAAAABAAAAAAAAAAEAAAIA\n",
       "AAAAAQAACgAAAAABAAAEAAAAAAEAAAAAAAAAAQAAAgAAAAABAAAKAAAAAAEAAAQAAAAAAQAAAAAA\n",
       "AAABAAACAAAAAAIAAAQAAAAAAQAACgAAAAABAAAEAAAAAAEAAAAAAAAAAQAAAgAAAAACAAAEAAAA\n",
       "AAEAAAoAAAAAAQAABAAAAAABAAAAAAAAAAEAAAIAAAAAAQAACgAAAAABAAAEAAAAAAEAAAAAAAAA\n",
       "AQAAAgAAAAABAAAKAAAAAAEAAAQAAAAAAQAAAAAAAAABAAACAAAAAAEAAAoAAAAAAQAABAAAAAAB\n",
       "AAAAAAAAAAEAAAIAAAAAAQAACgAAAAABAAAEAAAAAAEAAAAAAAAAAQAAAgAAAAABAAAKAAAAAAEA\n",
       "AAQAAAAAAQAAAAAAAAABAAACAAAAAAEAAAoAAAAAAQAABAAAAAABAAAAAAAAAAEAAAIAAAAAAQAA\n",
       "CgAAAAABAAAEAAAAAAEAAAAAAAAAAQAAAgAAAAABAAAKAAAAAAEAAAQAAAAAAQAAAAAAAAABAAAC\n",
       "AAAAAAUAAAQAAAAAAQAACgAAAAABAAAEAAAAAAEAAAAAAAAAAQAAAgAAAAABAAAKAAAAAAEAAAQA\n",
       "AAAAAQAAAAAAAAABAAACAAAAAAEAAAoAAAAAAQAABAAAAAABAAAAAAAAAAEAAAIAAAAAAQAACgAA\n",
       "AAABAAAEAAAAAAEAAAAAAAAAAQAAAgAAAAABAAAKAAAAAAEAAAQAAAAAAQAAAAAAAAABAAACAAAA\n",
       "AAEAAAoAAAAAAQAABAAAAAABAAAAAAAAAAEAAAIAAAAAAQAACgAAAAABAAAEAAAAAAEAAAAAAAAA\n",
       "AQAAAgAAAAAGAAAEAAAAABxzdHNjAAAAAAAAAAEAAAABAAAAoAAAAAEAAAKUc3RzegAAAAAAAAAA\n",
       "AAAAoAAAB24AAAFpAAAASQAAACkAAAAfAAAAawAAAOEAAABkAAAAOgAAADQAAAFoAAAAZwAAAE8A\n",
       "AABqAAACYgAAAGAAAABrAAAAcAAAALsAAACEAAAAQwAAACsAAAA1AAABpgAAAG0AAABYAAAAZAAA\n",
       "AbUAAABnAAAAYQAAACYAAAD5AAAAVgAAAE4AAAA6AAABJwAAAF4AAAA6AAAALwAAAH8AAABnAAAA\n",
       "agAAAG8AAAB3AAAAVAAAAF0AAABgAAAAjwAAAKkAAAENAAAAXQAAAC0AAABdAAABuwAAAGYAAABb\n",
       "AAAAUgAAATUAAABmAAAAHAAAACAAAAFHAAAAUgAAAFAAAABSAAACFwAAAF0AAABaAAAAaQAAAXAA\n",
       "AABqAAAAYAAAACsAAAEgAAAAOwAAACkAAAAwAAAAYQAAACsAAADQAAAANwAAACkAAAAsAAAAUQAA\n",
       "AG0AAADvAAAALgAAADAAAAA2AAABUwAAAGgAAABRAAAAYwAAAhMAAAB1AAAARAAAAGIAAAFKAAAA\n",
       "RAAAAFsAAAAsAAABPQAAAGYAAAA2AAAAWAAAAeQAAABsAAAAVAAAAF0AAAEQAAAAaAAAAFkAAAA1\n",
       "AAAA0AAAAHMAAAA6AAAAPAAAASIAAABuAAAAKQAAADAAAABZAAAAYAAAAFcAAABqAAAAgAAAAM8A\n",
       "AAA5AAAAMQAAADMAAAEvAAAAXwAAAFoAAABqAAABoAAAAGEAAABiAAAAYwAAAGYAAABzAAAATgAA\n",
       "ADgAAAFxAAAAXAAAAF8AAABNAAABhwAAAHcAAABuAAAAWgAAAN0AAABgAAAAWwAAAB0AAABEAAAA\n",
       "TwAAAEsAAAAxAAAANgAAAE0AAAAUc3RjbwAAAAAAAAABAAAALAAAAGJ1ZHRhAAAAWm1ldGEAAAAA\n",
       "AAAAIWhkbHIAAAAAAAAAAG1kaXJhcHBsAAAAAAAAAAAAAAAALWlsc3QAAAAlqXRvbwAAAB1kYXRh\n",
       "AAAAAQAAAABMYXZmNTYuNDAuMTAx\n",
       "\">\n",
       "  Your browser does not support the video tag.\n",
       "</video>"
      ],
      "text/plain": [
       "<IPython.core.display.HTML object>"
      ]
     },
     "execution_count": 10,
     "metadata": {},
     "output_type": "execute_result"
    }
   ],
   "source": [
    "HTML(ani.to_html5_video())"
   ]
  },
  {
   "cell_type": "markdown",
   "metadata": {},
   "source": [
    "## Remarque \n",
    "\n",
    "En cas d'erreur indiquant que `Ffmpeg` n'est pas disponible pour les distributions Linux récentes. Il faut changer le `writer` par défaut de matplotlib via la ligne suivante."
   ]
  },
  {
   "cell_type": "code",
   "execution_count": 11,
   "metadata": {
    "collapsed": true
   },
   "outputs": [],
   "source": [
    "plt.rcParams[\"animation.writer\"] = \"avconv\""
   ]
  }
 ],
 "metadata": {
  "kernelspec": {
   "display_name": "Python [conda env:py3]",
   "language": "python",
   "name": "conda-env-py3-py"
  },
  "language_info": {
   "codemirror_mode": {
    "name": "ipython",
    "version": 3
   },
   "file_extension": ".py",
   "mimetype": "text/x-python",
   "name": "python",
   "nbconvert_exporter": "python",
   "pygments_lexer": "ipython3",
   "version": "3.5.2"
  }
 },
 "nbformat": 4,
 "nbformat_minor": 2
}
